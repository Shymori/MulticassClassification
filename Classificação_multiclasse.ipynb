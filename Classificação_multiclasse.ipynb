{
  "nbformat": 4,
  "nbformat_minor": 0,
  "metadata": {
    "colab": {
      "provenance": [],
      "collapsed_sections": [
        "JS2ZsnzV6HVS",
        "SINB4iCOJlio",
        "z-KqAOv2eeEg"
      ],
      "include_colab_link": true
    },
    "kernelspec": {
      "name": "python3",
      "display_name": "Python 3"
    },
    "language_info": {
      "name": "python"
    }
  },
  "cells": [
    {
      "cell_type": "markdown",
      "metadata": {
        "id": "view-in-github",
        "colab_type": "text"
      },
      "source": [
        "<a href=\"https://colab.research.google.com/github/Shymori/MulticassClassification/blob/main/Classifica%C3%A7%C3%A3o_multiclasse.ipynb\" target=\"_parent\"><img src=\"https://colab.research.google.com/assets/colab-badge.svg\" alt=\"Open In Colab\"/></a>"
      ]
    },
    {
      "cell_type": "markdown",
      "source": [
        "#**Classificação: Resolvendo problemas multiclasse**"
      ],
      "metadata": {
        "id": "eFR0m_pn9bZi"
      }
    },
    {
      "cell_type": "markdown",
      "source": [
        "###**Carregando os dados**"
      ],
      "metadata": {
        "id": "_c4h1Cy0mGDt"
      }
    },
    {
      "cell_type": "code",
      "source": [
        "import pandas as pd"
      ],
      "metadata": {
        "id": "wMOpaQV1pwUS"
      },
      "execution_count": 1,
      "outputs": []
    },
    {
      "cell_type": "code",
      "source": [
        "df = pd.read_csv('https://raw.githubusercontent.com/alura-cursos/classificacao_multiclasse/main/Dados/dados_estudantes.csv')"
      ],
      "metadata": {
        "id": "LBTfTKOmpwas"
      },
      "execution_count": 2,
      "outputs": []
    },
    {
      "cell_type": "markdown",
      "source": [
        "##EDA Análise Exploratória de dados"
      ],
      "metadata": {
        "id": "JS2ZsnzV6HVS"
      }
    },
    {
      "cell_type": "code",
      "source": [
        "df.head()"
      ],
      "metadata": {
        "colab": {
          "base_uri": "https://localhost:8080/",
          "height": 308
        },
        "id": "SGMnkYrrpwg5",
        "outputId": "ddabb95e-5273-4d4c-9c14-c7ada11f0e66"
      },
      "execution_count": 3,
      "outputs": [
        {
          "output_type": "execute_result",
          "data": {
            "text/plain": [
              "  Estado civil Migração       Sexo  Idade na matrícula Estrangeiro  \\\n",
              "0     Solteiro      Sim  Masculino                  20         Não   \n",
              "1     Solteiro      Sim  Masculino                  19         Não   \n",
              "2     Solteiro      Sim  Masculino                  19         Não   \n",
              "3     Solteiro      Sim   Feminino                  20         Não   \n",
              "4       Casado      Não   Feminino                  45         Não   \n",
              "\n",
              "  Necessidades educacionais especiais Devedor Taxas de matrícula em dia  \\\n",
              "0                                 Não     Não                       Sim   \n",
              "1                                 Não     Não                       Não   \n",
              "2                                 Não     Não                       Não   \n",
              "3                                 Não     Não                       Sim   \n",
              "4                                 Não     Não                       Sim   \n",
              "\n",
              "  Bolsista  Taxa de desemprego  ...  disciplinas 1º semestre (aprovadas)  \\\n",
              "0      Não                10.8  ...                                    0   \n",
              "1      Não                13.9  ...                                    6   \n",
              "2      Não                10.8  ...                                    0   \n",
              "3      Não                 9.4  ...                                    6   \n",
              "4      Não                13.9  ...                                    5   \n",
              "\n",
              "   disciplinas 1º semestre (notas) disciplinas 1º semestre (sem avaliações)  \\\n",
              "0                         0.000000                                        0   \n",
              "1                        14.000000                                        0   \n",
              "2                         0.000000                                        0   \n",
              "3                        13.428571                                        0   \n",
              "4                        12.333333                                        0   \n",
              "\n",
              "  disciplinas 2º semestre (creditadas) disciplinas 2º semestre (matriculadas)  \\\n",
              "0                                    0                                      0   \n",
              "1                                    0                                      6   \n",
              "2                                    0                                      6   \n",
              "3                                    0                                      6   \n",
              "4                                    0                                      6   \n",
              "\n",
              "   disciplinas 2º semestre (avaliações)  disciplinas 2º semestre (aprovadas)  \\\n",
              "0                                     0                                    0   \n",
              "1                                     6                                    6   \n",
              "2                                     0                                    0   \n",
              "3                                    10                                    5   \n",
              "4                                     6                                    6   \n",
              "\n",
              "   disciplinas 2º semestre (notas)  disciplinas 2º semestre (sem avaliações)  \\\n",
              "0                         0.000000                                         0   \n",
              "1                        13.666667                                         0   \n",
              "2                         0.000000                                         0   \n",
              "3                        12.400000                                         0   \n",
              "4                        13.000000                                         0   \n",
              "\n",
              "       Target  \n",
              "0  Desistente  \n",
              "1    Graduado  \n",
              "2  Desistente  \n",
              "3    Graduado  \n",
              "4    Graduado  \n",
              "\n",
              "[5 rows x 28 columns]"
            ],
            "text/html": [
              "\n",
              "  <div id=\"df-5d557729-92e4-480e-9da1-5624ffffde4f\" class=\"colab-df-container\">\n",
              "    <div>\n",
              "<style scoped>\n",
              "    .dataframe tbody tr th:only-of-type {\n",
              "        vertical-align: middle;\n",
              "    }\n",
              "\n",
              "    .dataframe tbody tr th {\n",
              "        vertical-align: top;\n",
              "    }\n",
              "\n",
              "    .dataframe thead th {\n",
              "        text-align: right;\n",
              "    }\n",
              "</style>\n",
              "<table border=\"1\" class=\"dataframe\">\n",
              "  <thead>\n",
              "    <tr style=\"text-align: right;\">\n",
              "      <th></th>\n",
              "      <th>Estado civil</th>\n",
              "      <th>Migração</th>\n",
              "      <th>Sexo</th>\n",
              "      <th>Idade na matrícula</th>\n",
              "      <th>Estrangeiro</th>\n",
              "      <th>Necessidades educacionais especiais</th>\n",
              "      <th>Devedor</th>\n",
              "      <th>Taxas de matrícula em dia</th>\n",
              "      <th>Bolsista</th>\n",
              "      <th>Taxa de desemprego</th>\n",
              "      <th>...</th>\n",
              "      <th>disciplinas 1º semestre (aprovadas)</th>\n",
              "      <th>disciplinas 1º semestre (notas)</th>\n",
              "      <th>disciplinas 1º semestre (sem avaliações)</th>\n",
              "      <th>disciplinas 2º semestre (creditadas)</th>\n",
              "      <th>disciplinas 2º semestre (matriculadas)</th>\n",
              "      <th>disciplinas 2º semestre (avaliações)</th>\n",
              "      <th>disciplinas 2º semestre (aprovadas)</th>\n",
              "      <th>disciplinas 2º semestre (notas)</th>\n",
              "      <th>disciplinas 2º semestre (sem avaliações)</th>\n",
              "      <th>Target</th>\n",
              "    </tr>\n",
              "  </thead>\n",
              "  <tbody>\n",
              "    <tr>\n",
              "      <th>0</th>\n",
              "      <td>Solteiro</td>\n",
              "      <td>Sim</td>\n",
              "      <td>Masculino</td>\n",
              "      <td>20</td>\n",
              "      <td>Não</td>\n",
              "      <td>Não</td>\n",
              "      <td>Não</td>\n",
              "      <td>Sim</td>\n",
              "      <td>Não</td>\n",
              "      <td>10.8</td>\n",
              "      <td>...</td>\n",
              "      <td>0</td>\n",
              "      <td>0.000000</td>\n",
              "      <td>0</td>\n",
              "      <td>0</td>\n",
              "      <td>0</td>\n",
              "      <td>0</td>\n",
              "      <td>0</td>\n",
              "      <td>0.000000</td>\n",
              "      <td>0</td>\n",
              "      <td>Desistente</td>\n",
              "    </tr>\n",
              "    <tr>\n",
              "      <th>1</th>\n",
              "      <td>Solteiro</td>\n",
              "      <td>Sim</td>\n",
              "      <td>Masculino</td>\n",
              "      <td>19</td>\n",
              "      <td>Não</td>\n",
              "      <td>Não</td>\n",
              "      <td>Não</td>\n",
              "      <td>Não</td>\n",
              "      <td>Não</td>\n",
              "      <td>13.9</td>\n",
              "      <td>...</td>\n",
              "      <td>6</td>\n",
              "      <td>14.000000</td>\n",
              "      <td>0</td>\n",
              "      <td>0</td>\n",
              "      <td>6</td>\n",
              "      <td>6</td>\n",
              "      <td>6</td>\n",
              "      <td>13.666667</td>\n",
              "      <td>0</td>\n",
              "      <td>Graduado</td>\n",
              "    </tr>\n",
              "    <tr>\n",
              "      <th>2</th>\n",
              "      <td>Solteiro</td>\n",
              "      <td>Sim</td>\n",
              "      <td>Masculino</td>\n",
              "      <td>19</td>\n",
              "      <td>Não</td>\n",
              "      <td>Não</td>\n",
              "      <td>Não</td>\n",
              "      <td>Não</td>\n",
              "      <td>Não</td>\n",
              "      <td>10.8</td>\n",
              "      <td>...</td>\n",
              "      <td>0</td>\n",
              "      <td>0.000000</td>\n",
              "      <td>0</td>\n",
              "      <td>0</td>\n",
              "      <td>6</td>\n",
              "      <td>0</td>\n",
              "      <td>0</td>\n",
              "      <td>0.000000</td>\n",
              "      <td>0</td>\n",
              "      <td>Desistente</td>\n",
              "    </tr>\n",
              "    <tr>\n",
              "      <th>3</th>\n",
              "      <td>Solteiro</td>\n",
              "      <td>Sim</td>\n",
              "      <td>Feminino</td>\n",
              "      <td>20</td>\n",
              "      <td>Não</td>\n",
              "      <td>Não</td>\n",
              "      <td>Não</td>\n",
              "      <td>Sim</td>\n",
              "      <td>Não</td>\n",
              "      <td>9.4</td>\n",
              "      <td>...</td>\n",
              "      <td>6</td>\n",
              "      <td>13.428571</td>\n",
              "      <td>0</td>\n",
              "      <td>0</td>\n",
              "      <td>6</td>\n",
              "      <td>10</td>\n",
              "      <td>5</td>\n",
              "      <td>12.400000</td>\n",
              "      <td>0</td>\n",
              "      <td>Graduado</td>\n",
              "    </tr>\n",
              "    <tr>\n",
              "      <th>4</th>\n",
              "      <td>Casado</td>\n",
              "      <td>Não</td>\n",
              "      <td>Feminino</td>\n",
              "      <td>45</td>\n",
              "      <td>Não</td>\n",
              "      <td>Não</td>\n",
              "      <td>Não</td>\n",
              "      <td>Sim</td>\n",
              "      <td>Não</td>\n",
              "      <td>13.9</td>\n",
              "      <td>...</td>\n",
              "      <td>5</td>\n",
              "      <td>12.333333</td>\n",
              "      <td>0</td>\n",
              "      <td>0</td>\n",
              "      <td>6</td>\n",
              "      <td>6</td>\n",
              "      <td>6</td>\n",
              "      <td>13.000000</td>\n",
              "      <td>0</td>\n",
              "      <td>Graduado</td>\n",
              "    </tr>\n",
              "  </tbody>\n",
              "</table>\n",
              "<p>5 rows × 28 columns</p>\n",
              "</div>\n",
              "    <div class=\"colab-df-buttons\">\n",
              "\n",
              "  <div class=\"colab-df-container\">\n",
              "    <button class=\"colab-df-convert\" onclick=\"convertToInteractive('df-5d557729-92e4-480e-9da1-5624ffffde4f')\"\n",
              "            title=\"Convert this dataframe to an interactive table.\"\n",
              "            style=\"display:none;\">\n",
              "\n",
              "  <svg xmlns=\"http://www.w3.org/2000/svg\" height=\"24px\" viewBox=\"0 -960 960 960\">\n",
              "    <path d=\"M120-120v-720h720v720H120Zm60-500h600v-160H180v160Zm220 220h160v-160H400v160Zm0 220h160v-160H400v160ZM180-400h160v-160H180v160Zm440 0h160v-160H620v160ZM180-180h160v-160H180v160Zm440 0h160v-160H620v160Z\"/>\n",
              "  </svg>\n",
              "    </button>\n",
              "\n",
              "  <style>\n",
              "    .colab-df-container {\n",
              "      display:flex;\n",
              "      gap: 12px;\n",
              "    }\n",
              "\n",
              "    .colab-df-convert {\n",
              "      background-color: #E8F0FE;\n",
              "      border: none;\n",
              "      border-radius: 50%;\n",
              "      cursor: pointer;\n",
              "      display: none;\n",
              "      fill: #1967D2;\n",
              "      height: 32px;\n",
              "      padding: 0 0 0 0;\n",
              "      width: 32px;\n",
              "    }\n",
              "\n",
              "    .colab-df-convert:hover {\n",
              "      background-color: #E2EBFA;\n",
              "      box-shadow: 0px 1px 2px rgba(60, 64, 67, 0.3), 0px 1px 3px 1px rgba(60, 64, 67, 0.15);\n",
              "      fill: #174EA6;\n",
              "    }\n",
              "\n",
              "    .colab-df-buttons div {\n",
              "      margin-bottom: 4px;\n",
              "    }\n",
              "\n",
              "    [theme=dark] .colab-df-convert {\n",
              "      background-color: #3B4455;\n",
              "      fill: #D2E3FC;\n",
              "    }\n",
              "\n",
              "    [theme=dark] .colab-df-convert:hover {\n",
              "      background-color: #434B5C;\n",
              "      box-shadow: 0px 1px 3px 1px rgba(0, 0, 0, 0.15);\n",
              "      filter: drop-shadow(0px 1px 2px rgba(0, 0, 0, 0.3));\n",
              "      fill: #FFFFFF;\n",
              "    }\n",
              "  </style>\n",
              "\n",
              "    <script>\n",
              "      const buttonEl =\n",
              "        document.querySelector('#df-5d557729-92e4-480e-9da1-5624ffffde4f button.colab-df-convert');\n",
              "      buttonEl.style.display =\n",
              "        google.colab.kernel.accessAllowed ? 'block' : 'none';\n",
              "\n",
              "      async function convertToInteractive(key) {\n",
              "        const element = document.querySelector('#df-5d557729-92e4-480e-9da1-5624ffffde4f');\n",
              "        const dataTable =\n",
              "          await google.colab.kernel.invokeFunction('convertToInteractive',\n",
              "                                                    [key], {});\n",
              "        if (!dataTable) return;\n",
              "\n",
              "        const docLinkHtml = 'Like what you see? Visit the ' +\n",
              "          '<a target=\"_blank\" href=https://colab.research.google.com/notebooks/data_table.ipynb>data table notebook</a>'\n",
              "          + ' to learn more about interactive tables.';\n",
              "        element.innerHTML = '';\n",
              "        dataTable['output_type'] = 'display_data';\n",
              "        await google.colab.output.renderOutput(dataTable, element);\n",
              "        const docLink = document.createElement('div');\n",
              "        docLink.innerHTML = docLinkHtml;\n",
              "        element.appendChild(docLink);\n",
              "      }\n",
              "    </script>\n",
              "  </div>\n",
              "\n",
              "\n",
              "<div id=\"df-5053bdea-a125-4fd7-a78e-35cd709d75b2\">\n",
              "  <button class=\"colab-df-quickchart\" onclick=\"quickchart('df-5053bdea-a125-4fd7-a78e-35cd709d75b2')\"\n",
              "            title=\"Suggest charts\"\n",
              "            style=\"display:none;\">\n",
              "\n",
              "<svg xmlns=\"http://www.w3.org/2000/svg\" height=\"24px\"viewBox=\"0 0 24 24\"\n",
              "     width=\"24px\">\n",
              "    <g>\n",
              "        <path d=\"M19 3H5c-1.1 0-2 .9-2 2v14c0 1.1.9 2 2 2h14c1.1 0 2-.9 2-2V5c0-1.1-.9-2-2-2zM9 17H7v-7h2v7zm4 0h-2V7h2v10zm4 0h-2v-4h2v4z\"/>\n",
              "    </g>\n",
              "</svg>\n",
              "  </button>\n",
              "\n",
              "<style>\n",
              "  .colab-df-quickchart {\n",
              "      --bg-color: #E8F0FE;\n",
              "      --fill-color: #1967D2;\n",
              "      --hover-bg-color: #E2EBFA;\n",
              "      --hover-fill-color: #174EA6;\n",
              "      --disabled-fill-color: #AAA;\n",
              "      --disabled-bg-color: #DDD;\n",
              "  }\n",
              "\n",
              "  [theme=dark] .colab-df-quickchart {\n",
              "      --bg-color: #3B4455;\n",
              "      --fill-color: #D2E3FC;\n",
              "      --hover-bg-color: #434B5C;\n",
              "      --hover-fill-color: #FFFFFF;\n",
              "      --disabled-bg-color: #3B4455;\n",
              "      --disabled-fill-color: #666;\n",
              "  }\n",
              "\n",
              "  .colab-df-quickchart {\n",
              "    background-color: var(--bg-color);\n",
              "    border: none;\n",
              "    border-radius: 50%;\n",
              "    cursor: pointer;\n",
              "    display: none;\n",
              "    fill: var(--fill-color);\n",
              "    height: 32px;\n",
              "    padding: 0;\n",
              "    width: 32px;\n",
              "  }\n",
              "\n",
              "  .colab-df-quickchart:hover {\n",
              "    background-color: var(--hover-bg-color);\n",
              "    box-shadow: 0 1px 2px rgba(60, 64, 67, 0.3), 0 1px 3px 1px rgba(60, 64, 67, 0.15);\n",
              "    fill: var(--button-hover-fill-color);\n",
              "  }\n",
              "\n",
              "  .colab-df-quickchart-complete:disabled,\n",
              "  .colab-df-quickchart-complete:disabled:hover {\n",
              "    background-color: var(--disabled-bg-color);\n",
              "    fill: var(--disabled-fill-color);\n",
              "    box-shadow: none;\n",
              "  }\n",
              "\n",
              "  .colab-df-spinner {\n",
              "    border: 2px solid var(--fill-color);\n",
              "    border-color: transparent;\n",
              "    border-bottom-color: var(--fill-color);\n",
              "    animation:\n",
              "      spin 1s steps(1) infinite;\n",
              "  }\n",
              "\n",
              "  @keyframes spin {\n",
              "    0% {\n",
              "      border-color: transparent;\n",
              "      border-bottom-color: var(--fill-color);\n",
              "      border-left-color: var(--fill-color);\n",
              "    }\n",
              "    20% {\n",
              "      border-color: transparent;\n",
              "      border-left-color: var(--fill-color);\n",
              "      border-top-color: var(--fill-color);\n",
              "    }\n",
              "    30% {\n",
              "      border-color: transparent;\n",
              "      border-left-color: var(--fill-color);\n",
              "      border-top-color: var(--fill-color);\n",
              "      border-right-color: var(--fill-color);\n",
              "    }\n",
              "    40% {\n",
              "      border-color: transparent;\n",
              "      border-right-color: var(--fill-color);\n",
              "      border-top-color: var(--fill-color);\n",
              "    }\n",
              "    60% {\n",
              "      border-color: transparent;\n",
              "      border-right-color: var(--fill-color);\n",
              "    }\n",
              "    80% {\n",
              "      border-color: transparent;\n",
              "      border-right-color: var(--fill-color);\n",
              "      border-bottom-color: var(--fill-color);\n",
              "    }\n",
              "    90% {\n",
              "      border-color: transparent;\n",
              "      border-bottom-color: var(--fill-color);\n",
              "    }\n",
              "  }\n",
              "</style>\n",
              "\n",
              "  <script>\n",
              "    async function quickchart(key) {\n",
              "      const quickchartButtonEl =\n",
              "        document.querySelector('#' + key + ' button');\n",
              "      quickchartButtonEl.disabled = true;  // To prevent multiple clicks.\n",
              "      quickchartButtonEl.classList.add('colab-df-spinner');\n",
              "      try {\n",
              "        const charts = await google.colab.kernel.invokeFunction(\n",
              "            'suggestCharts', [key], {});\n",
              "      } catch (error) {\n",
              "        console.error('Error during call to suggestCharts:', error);\n",
              "      }\n",
              "      quickchartButtonEl.classList.remove('colab-df-spinner');\n",
              "      quickchartButtonEl.classList.add('colab-df-quickchart-complete');\n",
              "    }\n",
              "    (() => {\n",
              "      let quickchartButtonEl =\n",
              "        document.querySelector('#df-5053bdea-a125-4fd7-a78e-35cd709d75b2 button');\n",
              "      quickchartButtonEl.style.display =\n",
              "        google.colab.kernel.accessAllowed ? 'block' : 'none';\n",
              "    })();\n",
              "  </script>\n",
              "</div>\n",
              "\n",
              "    </div>\n",
              "  </div>\n"
            ]
          },
          "metadata": {},
          "execution_count": 3
        }
      ]
    },
    {
      "cell_type": "code",
      "source": [
        "df.info()"
      ],
      "metadata": {
        "colab": {
          "base_uri": "https://localhost:8080/"
        },
        "id": "POsXZRKdqGUW",
        "outputId": "469b23c3-67fb-4706-abe1-642e22d82776"
      },
      "execution_count": 4,
      "outputs": [
        {
          "output_type": "stream",
          "name": "stdout",
          "text": [
            "<class 'pandas.core.frame.DataFrame'>\n",
            "RangeIndex: 4424 entries, 0 to 4423\n",
            "Data columns (total 28 columns):\n",
            " #   Column                                    Non-Null Count  Dtype  \n",
            "---  ------                                    --------------  -----  \n",
            " 0   Estado civil                              4424 non-null   object \n",
            " 1   Migração                                  4424 non-null   object \n",
            " 2   Sexo                                      4424 non-null   object \n",
            " 3   Idade na matrícula                        4424 non-null   int64  \n",
            " 4   Estrangeiro                               4424 non-null   object \n",
            " 5   Necessidades educacionais especiais       4424 non-null   object \n",
            " 6   Devedor                                   4424 non-null   object \n",
            " 7   Taxas de matrícula em dia                 4424 non-null   object \n",
            " 8   Bolsista                                  4424 non-null   object \n",
            " 9   Taxa de desemprego                        4424 non-null   float64\n",
            " 10  Taxa de inflação                          4424 non-null   float64\n",
            " 11  PIB                                       4424 non-null   float64\n",
            " 12  Curso                                     4424 non-null   object \n",
            " 13  Período                                   4424 non-null   object \n",
            " 14  Qualificação prévia                       4424 non-null   object \n",
            " 15  disciplinas 1º semestre (creditadas)      4424 non-null   int64  \n",
            " 16  disciplinas 1º semestre (matriculadas)    4424 non-null   int64  \n",
            " 17  disciplinas 1º semestre (avaliações)      4424 non-null   int64  \n",
            " 18  disciplinas 1º semestre (aprovadas)       4424 non-null   int64  \n",
            " 19  disciplinas 1º semestre (notas)           4424 non-null   float64\n",
            " 20  disciplinas 1º semestre (sem avaliações)  4424 non-null   int64  \n",
            " 21  disciplinas 2º semestre (creditadas)      4424 non-null   int64  \n",
            " 22  disciplinas 2º semestre (matriculadas)    4424 non-null   int64  \n",
            " 23  disciplinas 2º semestre (avaliações)      4424 non-null   int64  \n",
            " 24  disciplinas 2º semestre (aprovadas)       4424 non-null   int64  \n",
            " 25  disciplinas 2º semestre (notas)           4424 non-null   float64\n",
            " 26  disciplinas 2º semestre (sem avaliações)  4424 non-null   int64  \n",
            " 27  Target                                    4424 non-null   object \n",
            "dtypes: float64(5), int64(11), object(12)\n",
            "memory usage: 967.9+ KB\n"
          ]
        }
      ]
    },
    {
      "cell_type": "markdown",
      "source": [
        "###**Entendendo os dados**"
      ],
      "metadata": {
        "id": "H_SxUEnomZaT"
      }
    },
    {
      "cell_type": "code",
      "source": [
        "df['Target'].unique()"
      ],
      "metadata": {
        "colab": {
          "base_uri": "https://localhost:8080/"
        },
        "id": "-ZaR44tBqfjf",
        "outputId": "78db46f6-7b3e-46b1-a586-e24c20dc3b49"
      },
      "execution_count": 5,
      "outputs": [
        {
          "output_type": "execute_result",
          "data": {
            "text/plain": [
              "array(['Desistente', 'Graduado', 'Matriculado'], dtype=object)"
            ]
          },
          "metadata": {},
          "execution_count": 5
        }
      ]
    },
    {
      "cell_type": "code",
      "source": [
        "df.describe()"
      ],
      "metadata": {
        "colab": {
          "base_uri": "https://localhost:8080/",
          "height": 372
        },
        "id": "geb9AjEf5pPA",
        "outputId": "88d01161-926e-4925-a5ed-2b8973d4000e"
      },
      "execution_count": 6,
      "outputs": [
        {
          "output_type": "execute_result",
          "data": {
            "text/plain": [
              "       Idade na matrícula  Taxa de desemprego  Taxa de inflação          PIB  \\\n",
              "count         4424.000000         4424.000000       4424.000000  4424.000000   \n",
              "mean            23.265145           11.566139          1.228029     0.001969   \n",
              "std              7.587816            2.663850          1.382711     2.269935   \n",
              "min             17.000000            7.600000         -0.800000    -4.060000   \n",
              "25%             19.000000            9.400000          0.300000    -1.700000   \n",
              "50%             20.000000           11.100000          1.400000     0.320000   \n",
              "75%             25.000000           13.900000          2.600000     1.790000   \n",
              "max             70.000000           16.200000          3.700000     3.510000   \n",
              "\n",
              "       disciplinas 1º semestre (creditadas)  \\\n",
              "count                           4424.000000   \n",
              "mean                               0.709991   \n",
              "std                                2.360507   \n",
              "min                                0.000000   \n",
              "25%                                0.000000   \n",
              "50%                                0.000000   \n",
              "75%                                0.000000   \n",
              "max                               20.000000   \n",
              "\n",
              "       disciplinas 1º semestre (matriculadas)  \\\n",
              "count                             4424.000000   \n",
              "mean                                 6.270570   \n",
              "std                                  2.480178   \n",
              "min                                  0.000000   \n",
              "25%                                  5.000000   \n",
              "50%                                  6.000000   \n",
              "75%                                  7.000000   \n",
              "max                                 26.000000   \n",
              "\n",
              "       disciplinas 1º semestre (avaliações)  \\\n",
              "count                           4424.000000   \n",
              "mean                               8.299051   \n",
              "std                                4.179106   \n",
              "min                                0.000000   \n",
              "25%                                6.000000   \n",
              "50%                                8.000000   \n",
              "75%                               10.000000   \n",
              "max                               45.000000   \n",
              "\n",
              "       disciplinas 1º semestre (aprovadas)  disciplinas 1º semestre (notas)  \\\n",
              "count                          4424.000000                      4424.000000   \n",
              "mean                              4.706600                        10.640822   \n",
              "std                               3.094238                         4.843663   \n",
              "min                               0.000000                         0.000000   \n",
              "25%                               3.000000                        11.000000   \n",
              "50%                               5.000000                        12.285714   \n",
              "75%                               6.000000                        13.400000   \n",
              "max                              26.000000                        18.875000   \n",
              "\n",
              "       disciplinas 1º semestre (sem avaliações)  \\\n",
              "count                               4424.000000   \n",
              "mean                                   0.137658   \n",
              "std                                    0.690880   \n",
              "min                                    0.000000   \n",
              "25%                                    0.000000   \n",
              "50%                                    0.000000   \n",
              "75%                                    0.000000   \n",
              "max                                   12.000000   \n",
              "\n",
              "       disciplinas 2º semestre (creditadas)  \\\n",
              "count                           4424.000000   \n",
              "mean                               0.541817   \n",
              "std                                1.918546   \n",
              "min                                0.000000   \n",
              "25%                                0.000000   \n",
              "50%                                0.000000   \n",
              "75%                                0.000000   \n",
              "max                               19.000000   \n",
              "\n",
              "       disciplinas 2º semestre (matriculadas)  \\\n",
              "count                             4424.000000   \n",
              "mean                                 6.232143   \n",
              "std                                  2.195951   \n",
              "min                                  0.000000   \n",
              "25%                                  5.000000   \n",
              "50%                                  6.000000   \n",
              "75%                                  7.000000   \n",
              "max                                 23.000000   \n",
              "\n",
              "       disciplinas 2º semestre (avaliações)  \\\n",
              "count                           4424.000000   \n",
              "mean                               8.063291   \n",
              "std                                3.947951   \n",
              "min                                0.000000   \n",
              "25%                                6.000000   \n",
              "50%                                8.000000   \n",
              "75%                               10.000000   \n",
              "max                               33.000000   \n",
              "\n",
              "       disciplinas 2º semestre (aprovadas)  disciplinas 2º semestre (notas)  \\\n",
              "count                          4424.000000                      4424.000000   \n",
              "mean                              4.435805                        10.230206   \n",
              "std                               3.014764                         5.210808   \n",
              "min                               0.000000                         0.000000   \n",
              "25%                               2.000000                        10.750000   \n",
              "50%                               5.000000                        12.200000   \n",
              "75%                               6.000000                        13.333333   \n",
              "max                              20.000000                        18.571429   \n",
              "\n",
              "       disciplinas 2º semestre (sem avaliações)  \n",
              "count                               4424.000000  \n",
              "mean                                   0.150316  \n",
              "std                                    0.753774  \n",
              "min                                    0.000000  \n",
              "25%                                    0.000000  \n",
              "50%                                    0.000000  \n",
              "75%                                    0.000000  \n",
              "max                                   12.000000  "
            ],
            "text/html": [
              "\n",
              "  <div id=\"df-30858370-c9b1-4ee9-940a-31fa25d02433\" class=\"colab-df-container\">\n",
              "    <div>\n",
              "<style scoped>\n",
              "    .dataframe tbody tr th:only-of-type {\n",
              "        vertical-align: middle;\n",
              "    }\n",
              "\n",
              "    .dataframe tbody tr th {\n",
              "        vertical-align: top;\n",
              "    }\n",
              "\n",
              "    .dataframe thead th {\n",
              "        text-align: right;\n",
              "    }\n",
              "</style>\n",
              "<table border=\"1\" class=\"dataframe\">\n",
              "  <thead>\n",
              "    <tr style=\"text-align: right;\">\n",
              "      <th></th>\n",
              "      <th>Idade na matrícula</th>\n",
              "      <th>Taxa de desemprego</th>\n",
              "      <th>Taxa de inflação</th>\n",
              "      <th>PIB</th>\n",
              "      <th>disciplinas 1º semestre (creditadas)</th>\n",
              "      <th>disciplinas 1º semestre (matriculadas)</th>\n",
              "      <th>disciplinas 1º semestre (avaliações)</th>\n",
              "      <th>disciplinas 1º semestre (aprovadas)</th>\n",
              "      <th>disciplinas 1º semestre (notas)</th>\n",
              "      <th>disciplinas 1º semestre (sem avaliações)</th>\n",
              "      <th>disciplinas 2º semestre (creditadas)</th>\n",
              "      <th>disciplinas 2º semestre (matriculadas)</th>\n",
              "      <th>disciplinas 2º semestre (avaliações)</th>\n",
              "      <th>disciplinas 2º semestre (aprovadas)</th>\n",
              "      <th>disciplinas 2º semestre (notas)</th>\n",
              "      <th>disciplinas 2º semestre (sem avaliações)</th>\n",
              "    </tr>\n",
              "  </thead>\n",
              "  <tbody>\n",
              "    <tr>\n",
              "      <th>count</th>\n",
              "      <td>4424.000000</td>\n",
              "      <td>4424.000000</td>\n",
              "      <td>4424.000000</td>\n",
              "      <td>4424.000000</td>\n",
              "      <td>4424.000000</td>\n",
              "      <td>4424.000000</td>\n",
              "      <td>4424.000000</td>\n",
              "      <td>4424.000000</td>\n",
              "      <td>4424.000000</td>\n",
              "      <td>4424.000000</td>\n",
              "      <td>4424.000000</td>\n",
              "      <td>4424.000000</td>\n",
              "      <td>4424.000000</td>\n",
              "      <td>4424.000000</td>\n",
              "      <td>4424.000000</td>\n",
              "      <td>4424.000000</td>\n",
              "    </tr>\n",
              "    <tr>\n",
              "      <th>mean</th>\n",
              "      <td>23.265145</td>\n",
              "      <td>11.566139</td>\n",
              "      <td>1.228029</td>\n",
              "      <td>0.001969</td>\n",
              "      <td>0.709991</td>\n",
              "      <td>6.270570</td>\n",
              "      <td>8.299051</td>\n",
              "      <td>4.706600</td>\n",
              "      <td>10.640822</td>\n",
              "      <td>0.137658</td>\n",
              "      <td>0.541817</td>\n",
              "      <td>6.232143</td>\n",
              "      <td>8.063291</td>\n",
              "      <td>4.435805</td>\n",
              "      <td>10.230206</td>\n",
              "      <td>0.150316</td>\n",
              "    </tr>\n",
              "    <tr>\n",
              "      <th>std</th>\n",
              "      <td>7.587816</td>\n",
              "      <td>2.663850</td>\n",
              "      <td>1.382711</td>\n",
              "      <td>2.269935</td>\n",
              "      <td>2.360507</td>\n",
              "      <td>2.480178</td>\n",
              "      <td>4.179106</td>\n",
              "      <td>3.094238</td>\n",
              "      <td>4.843663</td>\n",
              "      <td>0.690880</td>\n",
              "      <td>1.918546</td>\n",
              "      <td>2.195951</td>\n",
              "      <td>3.947951</td>\n",
              "      <td>3.014764</td>\n",
              "      <td>5.210808</td>\n",
              "      <td>0.753774</td>\n",
              "    </tr>\n",
              "    <tr>\n",
              "      <th>min</th>\n",
              "      <td>17.000000</td>\n",
              "      <td>7.600000</td>\n",
              "      <td>-0.800000</td>\n",
              "      <td>-4.060000</td>\n",
              "      <td>0.000000</td>\n",
              "      <td>0.000000</td>\n",
              "      <td>0.000000</td>\n",
              "      <td>0.000000</td>\n",
              "      <td>0.000000</td>\n",
              "      <td>0.000000</td>\n",
              "      <td>0.000000</td>\n",
              "      <td>0.000000</td>\n",
              "      <td>0.000000</td>\n",
              "      <td>0.000000</td>\n",
              "      <td>0.000000</td>\n",
              "      <td>0.000000</td>\n",
              "    </tr>\n",
              "    <tr>\n",
              "      <th>25%</th>\n",
              "      <td>19.000000</td>\n",
              "      <td>9.400000</td>\n",
              "      <td>0.300000</td>\n",
              "      <td>-1.700000</td>\n",
              "      <td>0.000000</td>\n",
              "      <td>5.000000</td>\n",
              "      <td>6.000000</td>\n",
              "      <td>3.000000</td>\n",
              "      <td>11.000000</td>\n",
              "      <td>0.000000</td>\n",
              "      <td>0.000000</td>\n",
              "      <td>5.000000</td>\n",
              "      <td>6.000000</td>\n",
              "      <td>2.000000</td>\n",
              "      <td>10.750000</td>\n",
              "      <td>0.000000</td>\n",
              "    </tr>\n",
              "    <tr>\n",
              "      <th>50%</th>\n",
              "      <td>20.000000</td>\n",
              "      <td>11.100000</td>\n",
              "      <td>1.400000</td>\n",
              "      <td>0.320000</td>\n",
              "      <td>0.000000</td>\n",
              "      <td>6.000000</td>\n",
              "      <td>8.000000</td>\n",
              "      <td>5.000000</td>\n",
              "      <td>12.285714</td>\n",
              "      <td>0.000000</td>\n",
              "      <td>0.000000</td>\n",
              "      <td>6.000000</td>\n",
              "      <td>8.000000</td>\n",
              "      <td>5.000000</td>\n",
              "      <td>12.200000</td>\n",
              "      <td>0.000000</td>\n",
              "    </tr>\n",
              "    <tr>\n",
              "      <th>75%</th>\n",
              "      <td>25.000000</td>\n",
              "      <td>13.900000</td>\n",
              "      <td>2.600000</td>\n",
              "      <td>1.790000</td>\n",
              "      <td>0.000000</td>\n",
              "      <td>7.000000</td>\n",
              "      <td>10.000000</td>\n",
              "      <td>6.000000</td>\n",
              "      <td>13.400000</td>\n",
              "      <td>0.000000</td>\n",
              "      <td>0.000000</td>\n",
              "      <td>7.000000</td>\n",
              "      <td>10.000000</td>\n",
              "      <td>6.000000</td>\n",
              "      <td>13.333333</td>\n",
              "      <td>0.000000</td>\n",
              "    </tr>\n",
              "    <tr>\n",
              "      <th>max</th>\n",
              "      <td>70.000000</td>\n",
              "      <td>16.200000</td>\n",
              "      <td>3.700000</td>\n",
              "      <td>3.510000</td>\n",
              "      <td>20.000000</td>\n",
              "      <td>26.000000</td>\n",
              "      <td>45.000000</td>\n",
              "      <td>26.000000</td>\n",
              "      <td>18.875000</td>\n",
              "      <td>12.000000</td>\n",
              "      <td>19.000000</td>\n",
              "      <td>23.000000</td>\n",
              "      <td>33.000000</td>\n",
              "      <td>20.000000</td>\n",
              "      <td>18.571429</td>\n",
              "      <td>12.000000</td>\n",
              "    </tr>\n",
              "  </tbody>\n",
              "</table>\n",
              "</div>\n",
              "    <div class=\"colab-df-buttons\">\n",
              "\n",
              "  <div class=\"colab-df-container\">\n",
              "    <button class=\"colab-df-convert\" onclick=\"convertToInteractive('df-30858370-c9b1-4ee9-940a-31fa25d02433')\"\n",
              "            title=\"Convert this dataframe to an interactive table.\"\n",
              "            style=\"display:none;\">\n",
              "\n",
              "  <svg xmlns=\"http://www.w3.org/2000/svg\" height=\"24px\" viewBox=\"0 -960 960 960\">\n",
              "    <path d=\"M120-120v-720h720v720H120Zm60-500h600v-160H180v160Zm220 220h160v-160H400v160Zm0 220h160v-160H400v160ZM180-400h160v-160H180v160Zm440 0h160v-160H620v160ZM180-180h160v-160H180v160Zm440 0h160v-160H620v160Z\"/>\n",
              "  </svg>\n",
              "    </button>\n",
              "\n",
              "  <style>\n",
              "    .colab-df-container {\n",
              "      display:flex;\n",
              "      gap: 12px;\n",
              "    }\n",
              "\n",
              "    .colab-df-convert {\n",
              "      background-color: #E8F0FE;\n",
              "      border: none;\n",
              "      border-radius: 50%;\n",
              "      cursor: pointer;\n",
              "      display: none;\n",
              "      fill: #1967D2;\n",
              "      height: 32px;\n",
              "      padding: 0 0 0 0;\n",
              "      width: 32px;\n",
              "    }\n",
              "\n",
              "    .colab-df-convert:hover {\n",
              "      background-color: #E2EBFA;\n",
              "      box-shadow: 0px 1px 2px rgba(60, 64, 67, 0.3), 0px 1px 3px 1px rgba(60, 64, 67, 0.15);\n",
              "      fill: #174EA6;\n",
              "    }\n",
              "\n",
              "    .colab-df-buttons div {\n",
              "      margin-bottom: 4px;\n",
              "    }\n",
              "\n",
              "    [theme=dark] .colab-df-convert {\n",
              "      background-color: #3B4455;\n",
              "      fill: #D2E3FC;\n",
              "    }\n",
              "\n",
              "    [theme=dark] .colab-df-convert:hover {\n",
              "      background-color: #434B5C;\n",
              "      box-shadow: 0px 1px 3px 1px rgba(0, 0, 0, 0.15);\n",
              "      filter: drop-shadow(0px 1px 2px rgba(0, 0, 0, 0.3));\n",
              "      fill: #FFFFFF;\n",
              "    }\n",
              "  </style>\n",
              "\n",
              "    <script>\n",
              "      const buttonEl =\n",
              "        document.querySelector('#df-30858370-c9b1-4ee9-940a-31fa25d02433 button.colab-df-convert');\n",
              "      buttonEl.style.display =\n",
              "        google.colab.kernel.accessAllowed ? 'block' : 'none';\n",
              "\n",
              "      async function convertToInteractive(key) {\n",
              "        const element = document.querySelector('#df-30858370-c9b1-4ee9-940a-31fa25d02433');\n",
              "        const dataTable =\n",
              "          await google.colab.kernel.invokeFunction('convertToInteractive',\n",
              "                                                    [key], {});\n",
              "        if (!dataTable) return;\n",
              "\n",
              "        const docLinkHtml = 'Like what you see? Visit the ' +\n",
              "          '<a target=\"_blank\" href=https://colab.research.google.com/notebooks/data_table.ipynb>data table notebook</a>'\n",
              "          + ' to learn more about interactive tables.';\n",
              "        element.innerHTML = '';\n",
              "        dataTable['output_type'] = 'display_data';\n",
              "        await google.colab.output.renderOutput(dataTable, element);\n",
              "        const docLink = document.createElement('div');\n",
              "        docLink.innerHTML = docLinkHtml;\n",
              "        element.appendChild(docLink);\n",
              "      }\n",
              "    </script>\n",
              "  </div>\n",
              "\n",
              "\n",
              "<div id=\"df-f43c3d14-ad87-40f9-ab33-7fb593a03e61\">\n",
              "  <button class=\"colab-df-quickchart\" onclick=\"quickchart('df-f43c3d14-ad87-40f9-ab33-7fb593a03e61')\"\n",
              "            title=\"Suggest charts\"\n",
              "            style=\"display:none;\">\n",
              "\n",
              "<svg xmlns=\"http://www.w3.org/2000/svg\" height=\"24px\"viewBox=\"0 0 24 24\"\n",
              "     width=\"24px\">\n",
              "    <g>\n",
              "        <path d=\"M19 3H5c-1.1 0-2 .9-2 2v14c0 1.1.9 2 2 2h14c1.1 0 2-.9 2-2V5c0-1.1-.9-2-2-2zM9 17H7v-7h2v7zm4 0h-2V7h2v10zm4 0h-2v-4h2v4z\"/>\n",
              "    </g>\n",
              "</svg>\n",
              "  </button>\n",
              "\n",
              "<style>\n",
              "  .colab-df-quickchart {\n",
              "      --bg-color: #E8F0FE;\n",
              "      --fill-color: #1967D2;\n",
              "      --hover-bg-color: #E2EBFA;\n",
              "      --hover-fill-color: #174EA6;\n",
              "      --disabled-fill-color: #AAA;\n",
              "      --disabled-bg-color: #DDD;\n",
              "  }\n",
              "\n",
              "  [theme=dark] .colab-df-quickchart {\n",
              "      --bg-color: #3B4455;\n",
              "      --fill-color: #D2E3FC;\n",
              "      --hover-bg-color: #434B5C;\n",
              "      --hover-fill-color: #FFFFFF;\n",
              "      --disabled-bg-color: #3B4455;\n",
              "      --disabled-fill-color: #666;\n",
              "  }\n",
              "\n",
              "  .colab-df-quickchart {\n",
              "    background-color: var(--bg-color);\n",
              "    border: none;\n",
              "    border-radius: 50%;\n",
              "    cursor: pointer;\n",
              "    display: none;\n",
              "    fill: var(--fill-color);\n",
              "    height: 32px;\n",
              "    padding: 0;\n",
              "    width: 32px;\n",
              "  }\n",
              "\n",
              "  .colab-df-quickchart:hover {\n",
              "    background-color: var(--hover-bg-color);\n",
              "    box-shadow: 0 1px 2px rgba(60, 64, 67, 0.3), 0 1px 3px 1px rgba(60, 64, 67, 0.15);\n",
              "    fill: var(--button-hover-fill-color);\n",
              "  }\n",
              "\n",
              "  .colab-df-quickchart-complete:disabled,\n",
              "  .colab-df-quickchart-complete:disabled:hover {\n",
              "    background-color: var(--disabled-bg-color);\n",
              "    fill: var(--disabled-fill-color);\n",
              "    box-shadow: none;\n",
              "  }\n",
              "\n",
              "  .colab-df-spinner {\n",
              "    border: 2px solid var(--fill-color);\n",
              "    border-color: transparent;\n",
              "    border-bottom-color: var(--fill-color);\n",
              "    animation:\n",
              "      spin 1s steps(1) infinite;\n",
              "  }\n",
              "\n",
              "  @keyframes spin {\n",
              "    0% {\n",
              "      border-color: transparent;\n",
              "      border-bottom-color: var(--fill-color);\n",
              "      border-left-color: var(--fill-color);\n",
              "    }\n",
              "    20% {\n",
              "      border-color: transparent;\n",
              "      border-left-color: var(--fill-color);\n",
              "      border-top-color: var(--fill-color);\n",
              "    }\n",
              "    30% {\n",
              "      border-color: transparent;\n",
              "      border-left-color: var(--fill-color);\n",
              "      border-top-color: var(--fill-color);\n",
              "      border-right-color: var(--fill-color);\n",
              "    }\n",
              "    40% {\n",
              "      border-color: transparent;\n",
              "      border-right-color: var(--fill-color);\n",
              "      border-top-color: var(--fill-color);\n",
              "    }\n",
              "    60% {\n",
              "      border-color: transparent;\n",
              "      border-right-color: var(--fill-color);\n",
              "    }\n",
              "    80% {\n",
              "      border-color: transparent;\n",
              "      border-right-color: var(--fill-color);\n",
              "      border-bottom-color: var(--fill-color);\n",
              "    }\n",
              "    90% {\n",
              "      border-color: transparent;\n",
              "      border-bottom-color: var(--fill-color);\n",
              "    }\n",
              "  }\n",
              "</style>\n",
              "\n",
              "  <script>\n",
              "    async function quickchart(key) {\n",
              "      const quickchartButtonEl =\n",
              "        document.querySelector('#' + key + ' button');\n",
              "      quickchartButtonEl.disabled = true;  // To prevent multiple clicks.\n",
              "      quickchartButtonEl.classList.add('colab-df-spinner');\n",
              "      try {\n",
              "        const charts = await google.colab.kernel.invokeFunction(\n",
              "            'suggestCharts', [key], {});\n",
              "      } catch (error) {\n",
              "        console.error('Error during call to suggestCharts:', error);\n",
              "      }\n",
              "      quickchartButtonEl.classList.remove('colab-df-spinner');\n",
              "      quickchartButtonEl.classList.add('colab-df-quickchart-complete');\n",
              "    }\n",
              "    (() => {\n",
              "      let quickchartButtonEl =\n",
              "        document.querySelector('#df-f43c3d14-ad87-40f9-ab33-7fb593a03e61 button');\n",
              "      quickchartButtonEl.style.display =\n",
              "        google.colab.kernel.accessAllowed ? 'block' : 'none';\n",
              "    })();\n",
              "  </script>\n",
              "</div>\n",
              "\n",
              "    </div>\n",
              "  </div>\n"
            ]
          },
          "metadata": {},
          "execution_count": 6
        }
      ]
    },
    {
      "cell_type": "code",
      "source": [
        "colunas_categoricas = ['Estado civil', 'Migração', 'Sexo', 'Estrangeiro', 'Necessidades educacionais especiais', 'Devedor',  'Taxas de matrícula em dia', 'Bolsista', 'Curso', 'Período', 'Qualificação prévia', 'Target']\n",
        "\n",
        "df[colunas_categoricas].describe()\n"
      ],
      "metadata": {
        "colab": {
          "base_uri": "https://localhost:8080/",
          "height": 227
        },
        "id": "3z4919PI5q35",
        "outputId": "423447fe-c550-45fd-85de-03939d8702e5"
      },
      "execution_count": 7,
      "outputs": [
        {
          "output_type": "execute_result",
          "data": {
            "text/plain": [
              "       Estado civil Migração      Sexo Estrangeiro  \\\n",
              "count          4424     4424      4424        4424   \n",
              "unique            6        2         2           2   \n",
              "top        Solteiro      Sim  Feminino         Não   \n",
              "freq           3919     2426      2868        4314   \n",
              "\n",
              "       Necessidades educacionais especiais Devedor Taxas de matrícula em dia  \\\n",
              "count                                 4424    4424                      4424   \n",
              "unique                                   2       2                         2   \n",
              "top                                    Não     Não                       Sim   \n",
              "freq                                  4373    3921                      3896   \n",
              "\n",
              "       Bolsista       Curso Período  Qualificação prévia    Target  \n",
              "count      4424        4424    4424                 4424      4424  \n",
              "unique        2          17       2                   17         3  \n",
              "top         Não  Enfermagem  Diurno  Educação secundária  Graduado  \n",
              "freq       3325         766    3941                 3717      2209  "
            ],
            "text/html": [
              "\n",
              "  <div id=\"df-16919730-18be-47db-91c8-92dd8f8ef24d\" class=\"colab-df-container\">\n",
              "    <div>\n",
              "<style scoped>\n",
              "    .dataframe tbody tr th:only-of-type {\n",
              "        vertical-align: middle;\n",
              "    }\n",
              "\n",
              "    .dataframe tbody tr th {\n",
              "        vertical-align: top;\n",
              "    }\n",
              "\n",
              "    .dataframe thead th {\n",
              "        text-align: right;\n",
              "    }\n",
              "</style>\n",
              "<table border=\"1\" class=\"dataframe\">\n",
              "  <thead>\n",
              "    <tr style=\"text-align: right;\">\n",
              "      <th></th>\n",
              "      <th>Estado civil</th>\n",
              "      <th>Migração</th>\n",
              "      <th>Sexo</th>\n",
              "      <th>Estrangeiro</th>\n",
              "      <th>Necessidades educacionais especiais</th>\n",
              "      <th>Devedor</th>\n",
              "      <th>Taxas de matrícula em dia</th>\n",
              "      <th>Bolsista</th>\n",
              "      <th>Curso</th>\n",
              "      <th>Período</th>\n",
              "      <th>Qualificação prévia</th>\n",
              "      <th>Target</th>\n",
              "    </tr>\n",
              "  </thead>\n",
              "  <tbody>\n",
              "    <tr>\n",
              "      <th>count</th>\n",
              "      <td>4424</td>\n",
              "      <td>4424</td>\n",
              "      <td>4424</td>\n",
              "      <td>4424</td>\n",
              "      <td>4424</td>\n",
              "      <td>4424</td>\n",
              "      <td>4424</td>\n",
              "      <td>4424</td>\n",
              "      <td>4424</td>\n",
              "      <td>4424</td>\n",
              "      <td>4424</td>\n",
              "      <td>4424</td>\n",
              "    </tr>\n",
              "    <tr>\n",
              "      <th>unique</th>\n",
              "      <td>6</td>\n",
              "      <td>2</td>\n",
              "      <td>2</td>\n",
              "      <td>2</td>\n",
              "      <td>2</td>\n",
              "      <td>2</td>\n",
              "      <td>2</td>\n",
              "      <td>2</td>\n",
              "      <td>17</td>\n",
              "      <td>2</td>\n",
              "      <td>17</td>\n",
              "      <td>3</td>\n",
              "    </tr>\n",
              "    <tr>\n",
              "      <th>top</th>\n",
              "      <td>Solteiro</td>\n",
              "      <td>Sim</td>\n",
              "      <td>Feminino</td>\n",
              "      <td>Não</td>\n",
              "      <td>Não</td>\n",
              "      <td>Não</td>\n",
              "      <td>Sim</td>\n",
              "      <td>Não</td>\n",
              "      <td>Enfermagem</td>\n",
              "      <td>Diurno</td>\n",
              "      <td>Educação secundária</td>\n",
              "      <td>Graduado</td>\n",
              "    </tr>\n",
              "    <tr>\n",
              "      <th>freq</th>\n",
              "      <td>3919</td>\n",
              "      <td>2426</td>\n",
              "      <td>2868</td>\n",
              "      <td>4314</td>\n",
              "      <td>4373</td>\n",
              "      <td>3921</td>\n",
              "      <td>3896</td>\n",
              "      <td>3325</td>\n",
              "      <td>766</td>\n",
              "      <td>3941</td>\n",
              "      <td>3717</td>\n",
              "      <td>2209</td>\n",
              "    </tr>\n",
              "  </tbody>\n",
              "</table>\n",
              "</div>\n",
              "    <div class=\"colab-df-buttons\">\n",
              "\n",
              "  <div class=\"colab-df-container\">\n",
              "    <button class=\"colab-df-convert\" onclick=\"convertToInteractive('df-16919730-18be-47db-91c8-92dd8f8ef24d')\"\n",
              "            title=\"Convert this dataframe to an interactive table.\"\n",
              "            style=\"display:none;\">\n",
              "\n",
              "  <svg xmlns=\"http://www.w3.org/2000/svg\" height=\"24px\" viewBox=\"0 -960 960 960\">\n",
              "    <path d=\"M120-120v-720h720v720H120Zm60-500h600v-160H180v160Zm220 220h160v-160H400v160Zm0 220h160v-160H400v160ZM180-400h160v-160H180v160Zm440 0h160v-160H620v160ZM180-180h160v-160H180v160Zm440 0h160v-160H620v160Z\"/>\n",
              "  </svg>\n",
              "    </button>\n",
              "\n",
              "  <style>\n",
              "    .colab-df-container {\n",
              "      display:flex;\n",
              "      gap: 12px;\n",
              "    }\n",
              "\n",
              "    .colab-df-convert {\n",
              "      background-color: #E8F0FE;\n",
              "      border: none;\n",
              "      border-radius: 50%;\n",
              "      cursor: pointer;\n",
              "      display: none;\n",
              "      fill: #1967D2;\n",
              "      height: 32px;\n",
              "      padding: 0 0 0 0;\n",
              "      width: 32px;\n",
              "    }\n",
              "\n",
              "    .colab-df-convert:hover {\n",
              "      background-color: #E2EBFA;\n",
              "      box-shadow: 0px 1px 2px rgba(60, 64, 67, 0.3), 0px 1px 3px 1px rgba(60, 64, 67, 0.15);\n",
              "      fill: #174EA6;\n",
              "    }\n",
              "\n",
              "    .colab-df-buttons div {\n",
              "      margin-bottom: 4px;\n",
              "    }\n",
              "\n",
              "    [theme=dark] .colab-df-convert {\n",
              "      background-color: #3B4455;\n",
              "      fill: #D2E3FC;\n",
              "    }\n",
              "\n",
              "    [theme=dark] .colab-df-convert:hover {\n",
              "      background-color: #434B5C;\n",
              "      box-shadow: 0px 1px 3px 1px rgba(0, 0, 0, 0.15);\n",
              "      filter: drop-shadow(0px 1px 2px rgba(0, 0, 0, 0.3));\n",
              "      fill: #FFFFFF;\n",
              "    }\n",
              "  </style>\n",
              "\n",
              "    <script>\n",
              "      const buttonEl =\n",
              "        document.querySelector('#df-16919730-18be-47db-91c8-92dd8f8ef24d button.colab-df-convert');\n",
              "      buttonEl.style.display =\n",
              "        google.colab.kernel.accessAllowed ? 'block' : 'none';\n",
              "\n",
              "      async function convertToInteractive(key) {\n",
              "        const element = document.querySelector('#df-16919730-18be-47db-91c8-92dd8f8ef24d');\n",
              "        const dataTable =\n",
              "          await google.colab.kernel.invokeFunction('convertToInteractive',\n",
              "                                                    [key], {});\n",
              "        if (!dataTable) return;\n",
              "\n",
              "        const docLinkHtml = 'Like what you see? Visit the ' +\n",
              "          '<a target=\"_blank\" href=https://colab.research.google.com/notebooks/data_table.ipynb>data table notebook</a>'\n",
              "          + ' to learn more about interactive tables.';\n",
              "        element.innerHTML = '';\n",
              "        dataTable['output_type'] = 'display_data';\n",
              "        await google.colab.output.renderOutput(dataTable, element);\n",
              "        const docLink = document.createElement('div');\n",
              "        docLink.innerHTML = docLinkHtml;\n",
              "        element.appendChild(docLink);\n",
              "      }\n",
              "    </script>\n",
              "  </div>\n",
              "\n",
              "\n",
              "<div id=\"df-e96c4fbb-0090-47fb-b606-c8126c5bfcca\">\n",
              "  <button class=\"colab-df-quickchart\" onclick=\"quickchart('df-e96c4fbb-0090-47fb-b606-c8126c5bfcca')\"\n",
              "            title=\"Suggest charts\"\n",
              "            style=\"display:none;\">\n",
              "\n",
              "<svg xmlns=\"http://www.w3.org/2000/svg\" height=\"24px\"viewBox=\"0 0 24 24\"\n",
              "     width=\"24px\">\n",
              "    <g>\n",
              "        <path d=\"M19 3H5c-1.1 0-2 .9-2 2v14c0 1.1.9 2 2 2h14c1.1 0 2-.9 2-2V5c0-1.1-.9-2-2-2zM9 17H7v-7h2v7zm4 0h-2V7h2v10zm4 0h-2v-4h2v4z\"/>\n",
              "    </g>\n",
              "</svg>\n",
              "  </button>\n",
              "\n",
              "<style>\n",
              "  .colab-df-quickchart {\n",
              "      --bg-color: #E8F0FE;\n",
              "      --fill-color: #1967D2;\n",
              "      --hover-bg-color: #E2EBFA;\n",
              "      --hover-fill-color: #174EA6;\n",
              "      --disabled-fill-color: #AAA;\n",
              "      --disabled-bg-color: #DDD;\n",
              "  }\n",
              "\n",
              "  [theme=dark] .colab-df-quickchart {\n",
              "      --bg-color: #3B4455;\n",
              "      --fill-color: #D2E3FC;\n",
              "      --hover-bg-color: #434B5C;\n",
              "      --hover-fill-color: #FFFFFF;\n",
              "      --disabled-bg-color: #3B4455;\n",
              "      --disabled-fill-color: #666;\n",
              "  }\n",
              "\n",
              "  .colab-df-quickchart {\n",
              "    background-color: var(--bg-color);\n",
              "    border: none;\n",
              "    border-radius: 50%;\n",
              "    cursor: pointer;\n",
              "    display: none;\n",
              "    fill: var(--fill-color);\n",
              "    height: 32px;\n",
              "    padding: 0;\n",
              "    width: 32px;\n",
              "  }\n",
              "\n",
              "  .colab-df-quickchart:hover {\n",
              "    background-color: var(--hover-bg-color);\n",
              "    box-shadow: 0 1px 2px rgba(60, 64, 67, 0.3), 0 1px 3px 1px rgba(60, 64, 67, 0.15);\n",
              "    fill: var(--button-hover-fill-color);\n",
              "  }\n",
              "\n",
              "  .colab-df-quickchart-complete:disabled,\n",
              "  .colab-df-quickchart-complete:disabled:hover {\n",
              "    background-color: var(--disabled-bg-color);\n",
              "    fill: var(--disabled-fill-color);\n",
              "    box-shadow: none;\n",
              "  }\n",
              "\n",
              "  .colab-df-spinner {\n",
              "    border: 2px solid var(--fill-color);\n",
              "    border-color: transparent;\n",
              "    border-bottom-color: var(--fill-color);\n",
              "    animation:\n",
              "      spin 1s steps(1) infinite;\n",
              "  }\n",
              "\n",
              "  @keyframes spin {\n",
              "    0% {\n",
              "      border-color: transparent;\n",
              "      border-bottom-color: var(--fill-color);\n",
              "      border-left-color: var(--fill-color);\n",
              "    }\n",
              "    20% {\n",
              "      border-color: transparent;\n",
              "      border-left-color: var(--fill-color);\n",
              "      border-top-color: var(--fill-color);\n",
              "    }\n",
              "    30% {\n",
              "      border-color: transparent;\n",
              "      border-left-color: var(--fill-color);\n",
              "      border-top-color: var(--fill-color);\n",
              "      border-right-color: var(--fill-color);\n",
              "    }\n",
              "    40% {\n",
              "      border-color: transparent;\n",
              "      border-right-color: var(--fill-color);\n",
              "      border-top-color: var(--fill-color);\n",
              "    }\n",
              "    60% {\n",
              "      border-color: transparent;\n",
              "      border-right-color: var(--fill-color);\n",
              "    }\n",
              "    80% {\n",
              "      border-color: transparent;\n",
              "      border-right-color: var(--fill-color);\n",
              "      border-bottom-color: var(--fill-color);\n",
              "    }\n",
              "    90% {\n",
              "      border-color: transparent;\n",
              "      border-bottom-color: var(--fill-color);\n",
              "    }\n",
              "  }\n",
              "</style>\n",
              "\n",
              "  <script>\n",
              "    async function quickchart(key) {\n",
              "      const quickchartButtonEl =\n",
              "        document.querySelector('#' + key + ' button');\n",
              "      quickchartButtonEl.disabled = true;  // To prevent multiple clicks.\n",
              "      quickchartButtonEl.classList.add('colab-df-spinner');\n",
              "      try {\n",
              "        const charts = await google.colab.kernel.invokeFunction(\n",
              "            'suggestCharts', [key], {});\n",
              "      } catch (error) {\n",
              "        console.error('Error during call to suggestCharts:', error);\n",
              "      }\n",
              "      quickchartButtonEl.classList.remove('colab-df-spinner');\n",
              "      quickchartButtonEl.classList.add('colab-df-quickchart-complete');\n",
              "    }\n",
              "    (() => {\n",
              "      let quickchartButtonEl =\n",
              "        document.querySelector('#df-e96c4fbb-0090-47fb-b606-c8126c5bfcca button');\n",
              "      quickchartButtonEl.style.display =\n",
              "        google.colab.kernel.accessAllowed ? 'block' : 'none';\n",
              "    })();\n",
              "  </script>\n",
              "</div>\n",
              "\n",
              "    </div>\n",
              "  </div>\n"
            ]
          },
          "metadata": {},
          "execution_count": 7
        }
      ]
    },
    {
      "cell_type": "markdown",
      "source": [
        "O normalize irá transformar o value_counts de quantidade para porcentagem de 0 a 1."
      ],
      "metadata": {
        "id": "N3tWP8Db6u7X"
      }
    },
    {
      "cell_type": "code",
      "source": [
        "df['Estado civil'].value_counts(normalize=True)*100"
      ],
      "metadata": {
        "colab": {
          "base_uri": "https://localhost:8080/"
        },
        "id": "x2j9SiGV51F0",
        "outputId": "c8907f0d-89ed-46f9-a7ca-acdb29af472f"
      },
      "execution_count": 8,
      "outputs": [
        {
          "output_type": "execute_result",
          "data": {
            "text/plain": [
              "Solteiro               88.584991\n",
              "Casado                  8.566908\n",
              "Divorciado              2.056962\n",
              "União Estável           0.565099\n",
              "Legalmente Separado     0.135624\n",
              "Viúvo                   0.090416\n",
              "Name: Estado civil, dtype: float64"
            ]
          },
          "metadata": {},
          "execution_count": 8
        }
      ]
    },
    {
      "cell_type": "code",
      "source": [
        "import matplotlib.pyplot as plt\n",
        "import seaborn as sns"
      ],
      "metadata": {
        "id": "52ZBDdYf6uP4"
      },
      "execution_count": 9,
      "outputs": []
    },
    {
      "cell_type": "markdown",
      "source": [
        "Como vimos no describe que a idade mínima é 17 e a máxima 70, podemos colocar isso no range"
      ],
      "metadata": {
        "id": "pdXDV4h1_xcG"
      }
    },
    {
      "cell_type": "code",
      "source": [
        "sns.displot(df['Idade na matrícula'],bins=25,height=6, aspect=2)\n",
        "plt.title(\"Histograma Idade\")\n",
        "plt.xticks(range(17,72,3))\n",
        "plt.show()"
      ],
      "metadata": {
        "colab": {
          "base_uri": "https://localhost:8080/",
          "height": 626
        },
        "id": "Ryo7cS9S7E-F",
        "outputId": "fd91daaa-f6af-46fb-dbfa-9f999fcf2d7f"
      },
      "execution_count": 10,
      "outputs": [
        {
          "output_type": "display_data",
          "data": {
            "text/plain": [
              "<Figure size 1200x600 with 1 Axes>"
            ],
            "image/png": "[encoded data removed]"
          },
          "metadata": {}
        }
      ]
    },
    {
      "cell_type": "code",
      "source": [
        "color_dict = {'Desistente':'#e34c42','Graduado':'#4dc471','Matriculado':'#3b71db'}\n",
        "sns.set_palette(list(color_dict.values()))\n",
        "sns.displot(data = df,x='Idade na matrícula',hue='Target',kind='kde',fill=True)\n",
        "plt.show"
      ],
      "metadata": {
        "colab": {
          "base_uri": "https://localhost:8080/",
          "height": 523
        },
        "id": "mI83d1T27SPB",
        "outputId": "2cebf43f-19b7-4fb2-d799-249570398c8a"
      },
      "execution_count": 11,
      "outputs": [
        {
          "output_type": "execute_result",
          "data": {
            "text/plain": [
              "<function matplotlib.pyplot.show(close=None, block=None)>"
            ]
          },
          "metadata": {},
          "execution_count": 11
        },
        {
          "output_type": "display_data",
          "data": {
            "text/plain": [
              "<Figure size 632x500 with 1 Axes>"
            ],
            "image/png": "[encoded data removed]"
          },
          "metadata": {}
        }
      ]
    },
    {
      "cell_type": "code",
      "source": [
        "df['Estrangeiro'].value_counts(normalize=True)*100"
      ],
      "metadata": {
        "colab": {
          "base_uri": "https://localhost:8080/"
        },
        "id": "gnPGj0-h8_s-",
        "outputId": "ce802280-a3f1-4915-f939-489b969b585f"
      },
      "execution_count": 12,
      "outputs": [
        {
          "output_type": "execute_result",
          "data": {
            "text/plain": [
              "Não    97.513562\n",
              "Sim     2.486438\n",
              "Name: Estrangeiro, dtype: float64"
            ]
          },
          "metadata": {},
          "execution_count": 12
        }
      ]
    },
    {
      "cell_type": "code",
      "source": [
        "df['Sexo'].value_counts(normalize=True)*100"
      ],
      "metadata": {
        "colab": {
          "base_uri": "https://localhost:8080/"
        },
        "id": "kIuvpF4RBFVo",
        "outputId": "ae466e30-b5d3-4d56-e56d-97608b394801"
      },
      "execution_count": 13,
      "outputs": [
        {
          "output_type": "execute_result",
          "data": {
            "text/plain": [
              "Feminino     64.82821\n",
              "Masculino    35.17179\n",
              "Name: Sexo, dtype: float64"
            ]
          },
          "metadata": {},
          "execution_count": 13
        }
      ]
    },
    {
      "cell_type": "code",
      "source": [
        "sns.countplot(x='Sexo',hue='Target',data=df)\n",
        "plt.show()"
      ],
      "metadata": {
        "colab": {
          "base_uri": "https://localhost:8080/",
          "height": 449
        },
        "id": "JBuC1da4BLLi",
        "outputId": "1a161f62-3c6f-4098-8b94-f0a1ecb31a0f"
      },
      "execution_count": 14,
      "outputs": [
        {
          "output_type": "display_data",
          "data": {
            "text/plain": [
              "<Figure size 640x480 with 1 Axes>"
            ],
            "image/png": "[encoded data removed]"
          },
          "metadata": {}
        }
      ]
    },
    {
      "cell_type": "code",
      "source": [
        "sns.countplot(x='Devedor',hue='Target', data=df)\n",
        "plt.show()"
      ],
      "metadata": {
        "colab": {
          "base_uri": "https://localhost:8080/",
          "height": 449
        },
        "id": "r8JQNn5zBZ70",
        "outputId": "a3d034c5-ca53-43e1-c9ee-1829d7d35f39"
      },
      "execution_count": 15,
      "outputs": [
        {
          "output_type": "display_data",
          "data": {
            "text/plain": [
              "<Figure size 640x480 with 1 Axes>"
            ],
            "image/png": "[encoded data removed]"
          },
          "metadata": {}
        }
      ]
    },
    {
      "cell_type": "code",
      "source": [
        "sns.countplot(x='Taxas de matrícula em dia',hue='Target', data=df)\n",
        "plt.show()"
      ],
      "metadata": {
        "colab": {
          "base_uri": "https://localhost:8080/",
          "height": 449
        },
        "id": "PlQ3xNKSCNfd",
        "outputId": "ec9eab86-3777-4f11-9c64-f888dfaa6ab2"
      },
      "execution_count": 16,
      "outputs": [
        {
          "output_type": "display_data",
          "data": {
            "text/plain": [
              "<Figure size 640x480 with 1 Axes>"
            ],
            "image/png": "[encoded data removed]"
          },
          "metadata": {}
        }
      ]
    },
    {
      "cell_type": "code",
      "source": [
        "sns.countplot(x='Bolsista',hue='Target', data=df)\n",
        "plt.show()"
      ],
      "metadata": {
        "colab": {
          "base_uri": "https://localhost:8080/",
          "height": 449
        },
        "id": "K2NwSv_PCo9H",
        "outputId": "bb4108c1-ee07-4b1a-d53f-bb493eeb5a1f"
      },
      "execution_count": 17,
      "outputs": [
        {
          "output_type": "display_data",
          "data": {
            "text/plain": [
              "<Figure size 640x480 with 1 Axes>"
            ],
            "image/png": "[encoded data removed]"
          },
          "metadata": {}
        }
      ]
    },
    {
      "cell_type": "code",
      "source": [
        "import plotly.express as px"
      ],
      "metadata": {
        "id": "ydaH35MFCq2d"
      },
      "execution_count": 18,
      "outputs": []
    },
    {
      "cell_type": "code",
      "source": [
        "contagem = df.groupby(['Curso','Target']).size().reset_index(name = 'Contagem')\n",
        "contagem['porcentagem'] = contagem.groupby('Curso')['Contagem'].transform(lambda x:(x/x.sum())*100)\n",
        "fig = px.bar(contagem, y='Curso', x='porcentagem', color='Target', orientation='h',color_discrete_map = {'Desistente': '#e34c42', 'Graduado': '#4dc471', 'Matriculado': '#3b71db'})\n",
        "fig.show()"
      ],
      "metadata": {
        "colab": {
          "base_uri": "https://localhost:8080/",
          "height": 542
        },
        "id": "K19Ou2czDjbZ",
        "outputId": "571e1075-9410-4649-9a0b-5219a7c9d0c3"
      },
      "execution_count": 19,
      "outputs": [
        {
          "output_type": "display_data",
          "data": {
            "text/html": [
              "<html>\n",
              "<head><meta charset=\"utf-8\" /></head>\n",
              "<body>\n",
              "    <div>            <script src=\"https://cdnjs.cloudflare.com/ajax/libs/mathjax/2.7.5/MathJax.js?config=TeX-AMS-MML_SVG\"></script><script type=\"text/javascript\">if (window.MathJax && window.MathJax.Hub && window.MathJax.Hub.Config) {window.MathJax.Hub.Config({SVG: {font: \"STIX-Web\"}});}</script>                <script type=\"text/javascript\">window.PlotlyConfig = {MathJaxConfig: 'local'};</script>\n",
              "        <script charset=\"utf-8\" src=\"https://cdn.plot.ly/plotly-2.24.1.min.js\"></script>                <div id=\"2668a305-4783-4c9b-868f-dcda45ac5389\" class=\"plotly-graph-div\" style=\"height:525px; width:100%;\"></div>            <script type=\"text/javascript\">                                    window.PLOTLYENV=window.PLOTLYENV || {};                                    if (document.getElementById(\"2668a305-4783-4c9b-868f-dcda45ac5389\")) {                    Plotly.newPlot(                        \"2668a305-4783-4c9b-868f-dcda45ac5389\",                        [{\"alignmentgroup\":\"True\",\"hovertemplate\":\"Target=Desistente\\u003cbr\\u003eporcentagem=%{x}\\u003cbr\\u003eCurso=%{y}\\u003cextra\\u003e\\u003c\\u002fextra\\u003e\",\"legendgroup\":\"Desistente\",\"marker\":{\"color\":\"#e34c42\",\"pattern\":{\"shape\":\"\"}},\"name\":\"Desistente\",\"offsetgroup\":\"Desistente\",\"orientation\":\"h\",\"showlegend\":true,\"textposition\":\"auto\",\"x\":[40.95238095238095,38.139534883720934,22.566371681415927,44.27083333333333,15.404699738903393,26.706231454005934,54.11764705882353,35.26315789473684,50.74626865671642,35.44776119402985,30.513595166163142,38.372093023255815,18.30985915492958,33.02325581395349,66.66666666666666,38.095238095238095,55.319148936170215],\"xaxis\":\"x\",\"y\":[\"Agronomia\",\"Anima\\u00e7\\u00e3o e Design Multim\\u00eddia\",\"Design de Comunica\\u00e7\\u00e3o\",\"Educa\\u00e7\\u00e3o B\\u00e1sica\",\"Enfermagem\",\"Enfermagem Veterin\\u00e1ria\",\"Engenharia da computa\\u00e7\\u00e3o\",\"Gest\\u00e3o\",\"Gest\\u00e3o (noturno)\",\"Gest\\u00e3o de Publicidade e Marketing\",\"Jornalismo e Comunica\\u00e7\\u00e3o\",\"Odontologia\",\"Servi\\u00e7o Social\",\"Servi\\u00e7o Social (noturno)\",\"Tecnologias de Produ\\u00e7\\u00e3o de Biocombust\\u00edveis\",\"Turismo\",\"Zootecnia\"],\"yaxis\":\"y\",\"type\":\"bar\"},{\"alignmentgroup\":\"True\",\"hovertemplate\":\"Target=Graduado\\u003cbr\\u003eporcentagem=%{x}\\u003cbr\\u003eCurso=%{y}\\u003cextra\\u003e\\u003c\\u002fextra\\u003e\",\"legendgroup\":\"Graduado\",\"marker\":{\"color\":\"#4dc471\",\"pattern\":{\"shape\":\"\"}},\"name\":\"Graduado\",\"offsetgroup\":\"Graduado\",\"orientation\":\"h\",\"showlegend\":true,\"textposition\":\"auto\",\"x\":[41.42857142857143,44.651162790697676,58.849557522123895,29.6875,71.54046997389034,51.038575667655785,8.235294117647058,36.31578947368421,29.1044776119403,46.64179104477612,59.21450151057401,41.86046511627907,69.85915492957746,57.20930232558139,8.333333333333332,45.63492063492063,29.78723404255319],\"xaxis\":\"x\",\"y\":[\"Agronomia\",\"Anima\\u00e7\\u00e3o e Design Multim\\u00eddia\",\"Design de Comunica\\u00e7\\u00e3o\",\"Educa\\u00e7\\u00e3o B\\u00e1sica\",\"Enfermagem\",\"Enfermagem Veterin\\u00e1ria\",\"Engenharia da computa\\u00e7\\u00e3o\",\"Gest\\u00e3o\",\"Gest\\u00e3o (noturno)\",\"Gest\\u00e3o de Publicidade e Marketing\",\"Jornalismo e Comunica\\u00e7\\u00e3o\",\"Odontologia\",\"Servi\\u00e7o Social\",\"Servi\\u00e7o Social (noturno)\",\"Tecnologias de Produ\\u00e7\\u00e3o de Biocombust\\u00edveis\",\"Turismo\",\"Zootecnia\"],\"yaxis\":\"y\",\"type\":\"bar\"},{\"alignmentgroup\":\"True\",\"hovertemplate\":\"Target=Matriculado\\u003cbr\\u003eporcentagem=%{x}\\u003cbr\\u003eCurso=%{y}\\u003cextra\\u003e\\u003c\\u002fextra\\u003e\",\"legendgroup\":\"Matriculado\",\"marker\":{\"color\":\"#3b71db\",\"pattern\":{\"shape\":\"\"}},\"name\":\"Matriculado\",\"offsetgroup\":\"Matriculado\",\"orientation\":\"h\",\"showlegend\":true,\"textposition\":\"auto\",\"x\":[17.61904761904762,17.209302325581397,18.58407079646018,26.041666666666668,13.054830287206268,22.255192878338278,37.64705882352941,28.421052631578945,20.149253731343283,17.91044776119403,10.27190332326284,19.767441860465116,11.830985915492958,9.767441860465116,25.0,16.26984126984127,14.893617021276595],\"xaxis\":\"x\",\"y\":[\"Agronomia\",\"Anima\\u00e7\\u00e3o e Design Multim\\u00eddia\",\"Design de Comunica\\u00e7\\u00e3o\",\"Educa\\u00e7\\u00e3o B\\u00e1sica\",\"Enfermagem\",\"Enfermagem Veterin\\u00e1ria\",\"Engenharia da computa\\u00e7\\u00e3o\",\"Gest\\u00e3o\",\"Gest\\u00e3o (noturno)\",\"Gest\\u00e3o de Publicidade e Marketing\",\"Jornalismo e Comunica\\u00e7\\u00e3o\",\"Odontologia\",\"Servi\\u00e7o Social\",\"Servi\\u00e7o Social (noturno)\",\"Tecnologias de Produ\\u00e7\\u00e3o de Biocombust\\u00edveis\",\"Turismo\",\"Zootecnia\"],\"yaxis\":\"y\",\"type\":\"bar\"}],                        {\"template\":{\"data\":{\"histogram2dcontour\":[{\"type\":\"histogram2dcontour\",\"colorbar\":{\"outlinewidth\":0,\"ticks\":\"\"},\"colorscale\":[[0.0,\"#0d0887\"],[0.1111111111111111,\"#46039f\"],[0.2222222222222222,\"#7201a8\"],[0.3333333333333333,\"#9c179e\"],[0.4444444444444444,\"#bd3786\"],[0.5555555555555556,\"#d8576b\"],[0.6666666666666666,\"#ed7953\"],[0.7777777777777778,\"#fb9f3a\"],[0.8888888888888888,\"#fdca26\"],[1.0,\"#f0f921\"]]}],\"choropleth\":[{\"type\":\"choropleth\",\"colorbar\":{\"outlinewidth\":0,\"ticks\":\"\"}}],\"histogram2d\":[{\"type\":\"histogram2d\",\"colorbar\":{\"outlinewidth\":0,\"ticks\":\"\"},\"colorscale\":[[0.0,\"#0d0887\"],[0.1111111111111111,\"#46039f\"],[0.2222222222222222,\"#7201a8\"],[0.3333333333333333,\"#9c179e\"],[0.4444444444444444,\"#bd3786\"],[0.5555555555555556,\"#d8576b\"],[0.6666666666666666,\"#ed7953\"],[0.7777777777777778,\"#fb9f3a\"],[0.8888888888888888,\"#fdca26\"],[1.0,\"#f0f921\"]]}],\"heatmap\":[{\"type\":\"heatmap\",\"colorbar\":{\"outlinewidth\":0,\"ticks\":\"\"},\"colorscale\":[[0.0,\"#0d0887\"],[0.1111111111111111,\"#46039f\"],[0.2222222222222222,\"#7201a8\"],[0.3333333333333333,\"#9c179e\"],[0.4444444444444444,\"#bd3786\"],[0.5555555555555556,\"#d8576b\"],[0.6666666666666666,\"#ed7953\"],[0.7777777777777778,\"#fb9f3a\"],[0.8888888888888888,\"#fdca26\"],[1.0,\"#f0f921\"]]}],\"heatmapgl\":[{\"type\":\"heatmapgl\",\"colorbar\":{\"outlinewidth\":0,\"ticks\":\"\"},\"colorscale\":[[0.0,\"#0d0887\"],[0.1111111111111111,\"#46039f\"],[0.2222222222222222,\"#7201a8\"],[0.3333333333333333,\"#9c179e\"],[0.4444444444444444,\"#bd3786\"],[0.5555555555555556,\"#d8576b\"],[0.6666666666666666,\"#ed7953\"],[0.7777777777777778,\"#fb9f3a\"],[0.8888888888888888,\"#fdca26\"],[1.0,\"#f0f921\"]]}],\"contourcarpet\":[{\"type\":\"contourcarpet\",\"colorbar\":{\"outlinewidth\":0,\"ticks\":\"\"}}],\"contour\":[{\"type\":\"contour\",\"colorbar\":{\"outlinewidth\":0,\"ticks\":\"\"},\"colorscale\":[[0.0,\"#0d0887\"],[0.1111111111111111,\"#46039f\"],[0.2222222222222222,\"#7201a8\"],[0.3333333333333333,\"#9c179e\"],[0.4444444444444444,\"#bd3786\"],[0.5555555555555556,\"#d8576b\"],[0.6666666666666666,\"#ed7953\"],[0.7777777777777778,\"#fb9f3a\"],[0.8888888888888888,\"#fdca26\"],[1.0,\"#f0f921\"]]}],\"surface\":[{\"type\":\"surface\",\"colorbar\":{\"outlinewidth\":0,\"ticks\":\"\"},\"colorscale\":[[0.0,\"#0d0887\"],[0.1111111111111111,\"#46039f\"],[0.2222222222222222,\"#7201a8\"],[0.3333333333333333,\"#9c179e\"],[0.4444444444444444,\"#bd3786\"],[0.5555555555555556,\"#d8576b\"],[0.6666666666666666,\"#ed7953\"],[0.7777777777777778,\"#fb9f3a\"],[0.8888888888888888,\"#fdca26\"],[1.0,\"#f0f921\"]]}],\"mesh3d\":[{\"type\":\"mesh3d\",\"colorbar\":{\"outlinewidth\":0,\"ticks\":\"\"}}],\"scatter\":[{\"fillpattern\":{\"fillmode\":\"overlay\",\"size\":10,\"solidity\":0.2},\"type\":\"scatter\"}],\"parcoords\":[{\"type\":\"parcoords\",\"line\":{\"colorbar\":{\"outlinewidth\":0,\"ticks\":\"\"}}}],\"scatterpolargl\":[{\"type\":\"scatterpolargl\",\"marker\":{\"colorbar\":{\"outlinewidth\":0,\"ticks\":\"\"}}}],\"bar\":[{\"error_x\":{\"color\":\"#2a3f5f\"},\"error_y\":{\"color\":\"#2a3f5f\"},\"marker\":{\"line\":{\"color\":\"#E5ECF6\",\"width\":0.5},\"pattern\":{\"fillmode\":\"overlay\",\"size\":10,\"solidity\":0.2}},\"type\":\"bar\"}],\"scattergeo\":[{\"type\":\"scattergeo\",\"marker\":{\"colorbar\":{\"outlinewidth\":0,\"ticks\":\"\"}}}],\"scatterpolar\":[{\"type\":\"scatterpolar\",\"marker\":{\"colorbar\":{\"outlinewidth\":0,\"ticks\":\"\"}}}],\"histogram\":[{\"marker\":{\"pattern\":{\"fillmode\":\"overlay\",\"size\":10,\"solidity\":0.2}},\"type\":\"histogram\"}],\"scattergl\":[{\"type\":\"scattergl\",\"marker\":{\"colorbar\":{\"outlinewidth\":0,\"ticks\":\"\"}}}],\"scatter3d\":[{\"type\":\"scatter3d\",\"line\":{\"colorbar\":{\"outlinewidth\":0,\"ticks\":\"\"}},\"marker\":{\"colorbar\":{\"outlinewidth\":0,\"ticks\":\"\"}}}],\"scattermapbox\":[{\"type\":\"scattermapbox\",\"marker\":{\"colorbar\":{\"outlinewidth\":0,\"ticks\":\"\"}}}],\"scatterternary\":[{\"type\":\"scatterternary\",\"marker\":{\"colorbar\":{\"outlinewidth\":0,\"ticks\":\"\"}}}],\"scattercarpet\":[{\"type\":\"scattercarpet\",\"marker\":{\"colorbar\":{\"outlinewidth\":0,\"ticks\":\"\"}}}],\"carpet\":[{\"aaxis\":{\"endlinecolor\":\"#2a3f5f\",\"gridcolor\":\"white\",\"linecolor\":\"white\",\"minorgridcolor\":\"white\",\"startlinecolor\":\"#2a3f5f\"},\"baxis\":{\"endlinecolor\":\"#2a3f5f\",\"gridcolor\":\"white\",\"linecolor\":\"white\",\"minorgridcolor\":\"white\",\"startlinecolor\":\"#2a3f5f\"},\"type\":\"carpet\"}],\"table\":[{\"cells\":{\"fill\":{\"color\":\"#EBF0F8\"},\"line\":{\"color\":\"white\"}},\"header\":{\"fill\":{\"color\":\"#C8D4E3\"},\"line\":{\"color\":\"white\"}},\"type\":\"table\"}],\"barpolar\":[{\"marker\":{\"line\":{\"color\":\"#E5ECF6\",\"width\":0.5},\"pattern\":{\"fillmode\":\"overlay\",\"size\":10,\"solidity\":0.2}},\"type\":\"barpolar\"}],\"pie\":[{\"automargin\":true,\"type\":\"pie\"}]},\"layout\":{\"autotypenumbers\":\"strict\",\"colorway\":[\"#636efa\",\"#EF553B\",\"#00cc96\",\"#ab63fa\",\"#FFA15A\",\"#19d3f3\",\"#FF6692\",\"#B6E880\",\"#FF97FF\",\"#FECB52\"],\"font\":{\"color\":\"#2a3f5f\"},\"hovermode\":\"closest\",\"hoverlabel\":{\"align\":\"left\"},\"paper_bgcolor\":\"white\",\"plot_bgcolor\":\"#E5ECF6\",\"polar\":{\"bgcolor\":\"#E5ECF6\",\"angularaxis\":{\"gridcolor\":\"white\",\"linecolor\":\"white\",\"ticks\":\"\"},\"radialaxis\":{\"gridcolor\":\"white\",\"linecolor\":\"white\",\"ticks\":\"\"}},\"ternary\":{\"bgcolor\":\"#E5ECF6\",\"aaxis\":{\"gridcolor\":\"white\",\"linecolor\":\"white\",\"ticks\":\"\"},\"baxis\":{\"gridcolor\":\"white\",\"linecolor\":\"white\",\"ticks\":\"\"},\"caxis\":{\"gridcolor\":\"white\",\"linecolor\":\"white\",\"ticks\":\"\"}},\"coloraxis\":{\"colorbar\":{\"outlinewidth\":0,\"ticks\":\"\"}},\"colorscale\":{\"sequential\":[[0.0,\"#0d0887\"],[0.1111111111111111,\"#46039f\"],[0.2222222222222222,\"#7201a8\"],[0.3333333333333333,\"#9c179e\"],[0.4444444444444444,\"#bd3786\"],[0.5555555555555556,\"#d8576b\"],[0.6666666666666666,\"#ed7953\"],[0.7777777777777778,\"#fb9f3a\"],[0.8888888888888888,\"#fdca26\"],[1.0,\"#f0f921\"]],\"sequentialminus\":[[0.0,\"#0d0887\"],[0.1111111111111111,\"#46039f\"],[0.2222222222222222,\"#7201a8\"],[0.3333333333333333,\"#9c179e\"],[0.4444444444444444,\"#bd3786\"],[0.5555555555555556,\"#d8576b\"],[0.6666666666666666,\"#ed7953\"],[0.7777777777777778,\"#fb9f3a\"],[0.8888888888888888,\"#fdca26\"],[1.0,\"#f0f921\"]],\"diverging\":[[0,\"#8e0152\"],[0.1,\"#c51b7d\"],[0.2,\"#de77ae\"],[0.3,\"#f1b6da\"],[0.4,\"#fde0ef\"],[0.5,\"#f7f7f7\"],[0.6,\"#e6f5d0\"],[0.7,\"#b8e186\"],[0.8,\"#7fbc41\"],[0.9,\"#4d9221\"],[1,\"#276419\"]]},\"xaxis\":{\"gridcolor\":\"white\",\"linecolor\":\"white\",\"ticks\":\"\",\"title\":{\"standoff\":15},\"zerolinecolor\":\"white\",\"automargin\":true,\"zerolinewidth\":2},\"yaxis\":{\"gridcolor\":\"white\",\"linecolor\":\"white\",\"ticks\":\"\",\"title\":{\"standoff\":15},\"zerolinecolor\":\"white\",\"automargin\":true,\"zerolinewidth\":2},\"scene\":{\"xaxis\":{\"backgroundcolor\":\"#E5ECF6\",\"gridcolor\":\"white\",\"linecolor\":\"white\",\"showbackground\":true,\"ticks\":\"\",\"zerolinecolor\":\"white\",\"gridwidth\":2},\"yaxis\":{\"backgroundcolor\":\"#E5ECF6\",\"gridcolor\":\"white\",\"linecolor\":\"white\",\"showbackground\":true,\"ticks\":\"\",\"zerolinecolor\":\"white\",\"gridwidth\":2},\"zaxis\":{\"backgroundcolor\":\"#E5ECF6\",\"gridcolor\":\"white\",\"linecolor\":\"white\",\"showbackground\":true,\"ticks\":\"\",\"zerolinecolor\":\"white\",\"gridwidth\":2}},\"shapedefaults\":{\"line\":{\"color\":\"#2a3f5f\"}},\"annotationdefaults\":{\"arrowcolor\":\"#2a3f5f\",\"arrowhead\":0,\"arrowwidth\":1},\"geo\":{\"bgcolor\":\"white\",\"landcolor\":\"#E5ECF6\",\"subunitcolor\":\"white\",\"showland\":true,\"showlakes\":true,\"lakecolor\":\"white\"},\"title\":{\"x\":0.05},\"mapbox\":{\"style\":\"light\"}}},\"xaxis\":{\"anchor\":\"y\",\"domain\":[0.0,1.0],\"title\":{\"text\":\"porcentagem\"}},\"yaxis\":{\"anchor\":\"x\",\"domain\":[0.0,1.0],\"title\":{\"text\":\"Curso\"}},\"legend\":{\"title\":{\"text\":\"Target\"},\"tracegroupgap\":0},\"margin\":{\"t\":60},\"barmode\":\"relative\"},                        {\"responsive\": true}                    ).then(function(){\n",
              "                            \n",
              "var gd = document.getElementById('2668a305-4783-4c9b-868f-dcda45ac5389');\n",
              "var x = new MutationObserver(function (mutations, observer) {{\n",
              "        var display = window.getComputedStyle(gd).display;\n",
              "        if (!display || display === 'none') {{\n",
              "            console.log([gd, 'removed!']);\n",
              "            Plotly.purge(gd);\n",
              "            observer.disconnect();\n",
              "        }}\n",
              "}});\n",
              "\n",
              "// Listen for the removal of the full notebook cells\n",
              "var notebookContainer = gd.closest('#notebook-container');\n",
              "if (notebookContainer) {{\n",
              "    x.observe(notebookContainer, {childList: true});\n",
              "}}\n",
              "\n",
              "// Listen for the clearing of the current output cell\n",
              "var outputEl = gd.closest('.output');\n",
              "if (outputEl) {{\n",
              "    x.observe(outputEl, {childList: true});\n",
              "}}\n",
              "\n",
              "                        })                };                            </script>        </div>\n",
              "</body>\n",
              "</html>"
            ]
          },
          "metadata": {}
        }
      ]
    },
    {
      "cell_type": "code",
      "source": [
        "sns.boxplot(x='Target',y='disciplinas 1º semestre (notas)',data=df)\n",
        "plt.show()"
      ],
      "metadata": {
        "colab": {
          "base_uri": "https://localhost:8080/",
          "height": 449
        },
        "id": "H9E1xnwoDtVQ",
        "outputId": "fe15c5db-125d-4e60-a749-3170a9f503de"
      },
      "execution_count": 20,
      "outputs": [
        {
          "output_type": "display_data",
          "data": {
            "text/plain": [
              "<Figure size 640x480 with 1 Axes>"
            ],
            "image/png": "[encoded data removed]"
          },
          "metadata": {}
        }
      ]
    },
    {
      "cell_type": "code",
      "source": [
        "sns.boxplot(x='Target',y='disciplinas 2º semestre (notas)',data=df)\n",
        "plt.show()"
      ],
      "metadata": {
        "colab": {
          "base_uri": "https://localhost:8080/",
          "height": 449
        },
        "id": "iay3dvORGeiU",
        "outputId": "69829026-e489-4247-bf8c-b578771df841"
      },
      "execution_count": 21,
      "outputs": [
        {
          "output_type": "display_data",
          "data": {
            "text/plain": [
              "<Figure size 640x480 with 1 Axes>"
            ],
            "image/png": "[encoded data removed]"
          },
          "metadata": {}
        }
      ]
    },
    {
      "cell_type": "code",
      "source": [
        "df['Target'].value_counts(normalize=True)*100"
      ],
      "metadata": {
        "colab": {
          "base_uri": "https://localhost:8080/"
        },
        "id": "KygBu7jwHBgG",
        "outputId": "b4f3489d-f411-47f0-e5e2-92b06518a042"
      },
      "execution_count": 22,
      "outputs": [
        {
          "output_type": "execute_result",
          "data": {
            "text/plain": [
              "Graduado       49.932188\n",
              "Desistente     32.120253\n",
              "Matriculado    17.947559\n",
              "Name: Target, dtype: float64"
            ]
          },
          "metadata": {},
          "execution_count": 22
        }
      ]
    },
    {
      "cell_type": "code",
      "source": [
        "sns.countplot(x='Migração', hue='Target', data=df)\n",
        "plt.show()\n"
      ],
      "metadata": {
        "colab": {
          "base_uri": "https://localhost:8080/",
          "height": 449
        },
        "id": "d_cfFSXZHT7Z",
        "outputId": "36d76d91-ce16-42b6-bb90-8db597728c40"
      },
      "execution_count": 23,
      "outputs": [
        {
          "output_type": "display_data",
          "data": {
            "text/plain": [
              "<Figure size 640x480 with 1 Axes>"
            ],
            "image/png": "[encoded data removed]"
          },
          "metadata": {}
        }
      ]
    },
    {
      "cell_type": "code",
      "source": [
        "df['Necessidades educacionais especiais'].value_counts(normalize=True)*100\n"
      ],
      "metadata": {
        "colab": {
          "base_uri": "https://localhost:8080/"
        },
        "id": "tILSWXDwIVT7",
        "outputId": "deae69d6-211f-4eaa-b332-334f58759d50"
      },
      "execution_count": 24,
      "outputs": [
        {
          "output_type": "execute_result",
          "data": {
            "text/plain": [
              "Não    98.847197\n",
              "Sim     1.152803\n",
              "Name: Necessidades educacionais especiais, dtype: float64"
            ]
          },
          "metadata": {},
          "execution_count": 24
        }
      ]
    },
    {
      "cell_type": "code",
      "source": [
        "df.groupby('Target')['Necessidades educacionais especiais'].value_counts(normalize=True)*100\n"
      ],
      "metadata": {
        "colab": {
          "base_uri": "https://localhost:8080/"
        },
        "id": "u-60_0XaIcJO",
        "outputId": "d2b4b130-77ae-42d7-ffde-4625f40ae0ba"
      },
      "execution_count": 25,
      "outputs": [
        {
          "output_type": "execute_result",
          "data": {
            "text/plain": [
              "Target       Necessidades educacionais especiais\n",
              "Desistente   Não                                    98.803659\n",
              "             Sim                                     1.196341\n",
              "Graduado     Não                                    98.958805\n",
              "             Sim                                     1.041195\n",
              "Matriculado  Não                                    98.614610\n",
              "             Sim                                     1.385390\n",
              "Name: Necessidades educacionais especiais, dtype: float64"
            ]
          },
          "metadata": {},
          "execution_count": 25
        }
      ]
    },
    {
      "cell_type": "code",
      "source": [
        "sns.boxplot(x='Target', y='Taxa de desemprego', data=df)\n",
        "plt.show()\n"
      ],
      "metadata": {
        "colab": {
          "base_uri": "https://localhost:8080/",
          "height": 449
        },
        "id": "sQLdAWrsIfyO",
        "outputId": "c6f8f719-04a2-4a7c-cf49-7d144b873ab2"
      },
      "execution_count": 26,
      "outputs": [
        {
          "output_type": "display_data",
          "data": {
            "text/plain": [
              "<Figure size 640x480 with 1 Axes>"
            ],
            "image/png": "[encoded data removed]"
          },
          "metadata": {}
        }
      ]
    },
    {
      "cell_type": "code",
      "source": [
        "sns.boxplot(x='Target', y='Taxa de inflação', data=df)\n",
        "plt.show()\n"
      ],
      "metadata": {
        "colab": {
          "base_uri": "https://localhost:8080/",
          "height": 449
        },
        "id": "7nB0jLxjInu0",
        "outputId": "60981887-cfd0-4f01-e133-330672de3800"
      },
      "execution_count": 27,
      "outputs": [
        {
          "output_type": "display_data",
          "data": {
            "text/plain": [
              "<Figure size 640x480 with 1 Axes>"
            ],
            "image/png": "[encoded data removed]"
          },
          "metadata": {}
        }
      ]
    },
    {
      "cell_type": "code",
      "source": [
        "sns.boxplot(x='Target', y='PIB', data=df)\n",
        "plt.show()\n"
      ],
      "metadata": {
        "colab": {
          "base_uri": "https://localhost:8080/",
          "height": 449
        },
        "id": "rYi74UMbIn-J",
        "outputId": "9b337e55-c307-495f-9b33-729e8ce22729"
      },
      "execution_count": 28,
      "outputs": [
        {
          "output_type": "display_data",
          "data": {
            "text/plain": [
              "<Figure size 640x480 with 1 Axes>"
            ],
            "image/png": "[encoded data removed]"
          },
          "metadata": {}
        }
      ]
    },
    {
      "cell_type": "code",
      "source": [
        "df['Qualificação prévia'].value_counts(normalize=True)*100\n"
      ],
      "metadata": {
        "colab": {
          "base_uri": "https://localhost:8080/"
        },
        "id": "fH_JRp55Iqtf",
        "outputId": "4c436cb3-9da9-4fc2-8952-6f3f5472cc48"
      },
      "execution_count": 29,
      "outputs": [
        {
          "output_type": "execute_result",
          "data": {
            "text/plain": [
              "Educação secundária                                         84.018987\n",
              "Curso de especialização tecnológica                          4.950271\n",
              "Educação básica 3º ciclo (9º/10º/11º ano) ou equivalente     3.661844\n",
              "Educação superior - licenciatura                             2.848101\n",
              "Outro - 11º ano de escolaridade                              1.017179\n",
              "Educação superior - licenciatura (1º ciclo)                  0.904159\n",
              "Curso técnico superior profissional                          0.813743\n",
              "Educação superior - bacharelado                              0.519892\n",
              "Frequência de educação superior                              0.361664\n",
              "12º ano de escolaridade - não concluído                      0.248644\n",
              "Educação superior - mestrado                                 0.180832\n",
              "Educação básica 2º ciclo (6º/7º/8º ano) ou equivalente       0.158228\n",
              "Educação superior - mestrado (2º ciclo)                      0.135624\n",
              "11º ano de escolaridade - não concluído                      0.090416\n",
              "10º ano de escolaridade - não concluído                      0.045208\n",
              "Educação superior - doutorado                                0.022604\n",
              "10º ano de escolaridade                                      0.022604\n",
              "Name: Qualificação prévia, dtype: float64"
            ]
          },
          "metadata": {},
          "execution_count": 29
        }
      ]
    },
    {
      "cell_type": "markdown",
      "source": [
        "##Preprocessamento"
      ],
      "metadata": {
        "id": "SINB4iCOJlio"
      }
    },
    {
      "cell_type": "markdown",
      "source": [
        "Primeiro vamos transformar as colunas categóricas em numéricas"
      ],
      "metadata": {
        "id": "ZwV_e-T_L7mA"
      }
    },
    {
      "cell_type": "code",
      "source": [
        "from sklearn.preprocessing import OneHotEncoder"
      ],
      "metadata": {
        "id": "WFPcMRpiItIg"
      },
      "execution_count": 30,
      "outputs": []
    },
    {
      "cell_type": "code",
      "source": [
        "colunas_categoricas = ['Estado civil', 'Migração', 'Sexo', 'Estrangeiro', 'Necessidades educacionais especiais', 'Devedor',  'Taxas de matrícula em dia', 'Bolsista', 'Curso', 'Período', 'Qualificação prévia']\n",
        "\n"
      ],
      "metadata": {
        "id": "nq30nDyGJibp"
      },
      "execution_count": 31,
      "outputs": []
    },
    {
      "cell_type": "markdown",
      "source": [
        "Com o OneHotEncoder teremos as colunas categoricas para numéricas criando novas colunas para cada valor categórico, com 0s e 1s"
      ],
      "metadata": {
        "id": "ClSTf--XKDLj"
      }
    },
    {
      "cell_type": "code",
      "source": [
        "encoder = OneHotEncoder(drop='if_binary') # não precisa criar colunas novas se for dois valores, pois dá pra transformar em 0 e 1\n",
        "df_categorico = df[colunas_categoricas]\n",
        "df_encoded = pd.DataFrame(encoder.fit_transform(df_categorico).toarray(),columns=encoder.get_feature_names_out(colunas_categoricas))\n",
        "df_final = pd.concat([df.drop(colunas_categoricas,axis=1),df_encoded],axis=1)"
      ],
      "metadata": {
        "id": "eWY6sf73KHS6"
      },
      "execution_count": 32,
      "outputs": []
    },
    {
      "cell_type": "code",
      "source": [
        "df_final"
      ],
      "metadata": {
        "colab": {
          "base_uri": "https://localhost:8080/",
          "height": 531
        },
        "id": "_5crlpYKLf2u",
        "outputId": "622bc559-b3fd-4cd8-d29b-cb7da333b721"
      },
      "execution_count": 33,
      "outputs": [
        {
          "output_type": "execute_result",
          "data": {
            "text/plain": [
              "      Idade na matrícula  Taxa de desemprego  Taxa de inflação   PIB  \\\n",
              "0                     20                10.8               1.4  1.74   \n",
              "1                     19                13.9              -0.3  0.79   \n",
              "2                     19                10.8               1.4  1.74   \n",
              "3                     20                 9.4              -0.8 -3.12   \n",
              "4                     45                13.9              -0.3  0.79   \n",
              "...                  ...                 ...               ...   ...   \n",
              "4419                  19                15.5               2.8 -4.06   \n",
              "4420                  18                11.1               0.6  2.02   \n",
              "4421                  30                13.9              -0.3  0.79   \n",
              "4422                  20                 9.4              -0.8 -3.12   \n",
              "4423                  22                12.7               3.7 -1.70   \n",
              "\n",
              "      disciplinas 1º semestre (creditadas)  \\\n",
              "0                                        0   \n",
              "1                                        0   \n",
              "2                                        0   \n",
              "3                                        0   \n",
              "4                                        0   \n",
              "...                                    ...   \n",
              "4419                                     0   \n",
              "4420                                     0   \n",
              "4421                                     0   \n",
              "4422                                     0   \n",
              "4423                                     0   \n",
              "\n",
              "      disciplinas 1º semestre (matriculadas)  \\\n",
              "0                                          0   \n",
              "1                                          6   \n",
              "2                                          6   \n",
              "3                                          6   \n",
              "4                                          6   \n",
              "...                                      ...   \n",
              "4419                                       6   \n",
              "4420                                       6   \n",
              "4421                                       7   \n",
              "4422                                       5   \n",
              "4423                                       6   \n",
              "\n",
              "      disciplinas 1º semestre (avaliações)  \\\n",
              "0                                        0   \n",
              "1                                        6   \n",
              "2                                        0   \n",
              "3                                        8   \n",
              "4                                        9   \n",
              "...                                    ...   \n",
              "4419                                     7   \n",
              "4420                                     6   \n",
              "4421                                     8   \n",
              "4422                                     5   \n",
              "4423                                     8   \n",
              "\n",
              "      disciplinas 1º semestre (aprovadas)  disciplinas 1º semestre (notas)  \\\n",
              "0                                       0                         0.000000   \n",
              "1                                       6                        14.000000   \n",
              "2                                       0                         0.000000   \n",
              "3                                       6                        13.428571   \n",
              "4                                       5                        12.333333   \n",
              "...                                   ...                              ...   \n",
              "4419                                    5                        13.600000   \n",
              "4420                                    6                        12.000000   \n",
              "4421                                    7                        14.912500   \n",
              "4422                                    5                        13.800000   \n",
              "4423                                    6                        11.666667   \n",
              "\n",
              "      disciplinas 1º semestre (sem avaliações)  ...  \\\n",
              "0                                            0  ...   \n",
              "1                                            0  ...   \n",
              "2                                            0  ...   \n",
              "3                                            0  ...   \n",
              "4                                            0  ...   \n",
              "...                                        ...  ...   \n",
              "4419                                         0  ...   \n",
              "4420                                         0  ...   \n",
              "4421                                         0  ...   \n",
              "4422                                         0  ...   \n",
              "4423                                         0  ...   \n",
              "\n",
              "      Qualificação prévia_Educação básica 3º ciclo (9º/10º/11º ano) ou equivalente  \\\n",
              "0                                                   0.0                              \n",
              "1                                                   0.0                              \n",
              "2                                                   0.0                              \n",
              "3                                                   0.0                              \n",
              "4                                                   0.0                              \n",
              "...                                                 ...                              \n",
              "4419                                                0.0                              \n",
              "4420                                                0.0                              \n",
              "4421                                                0.0                              \n",
              "4422                                                0.0                              \n",
              "4423                                                0.0                              \n",
              "\n",
              "      Qualificação prévia_Educação secundária  \\\n",
              "0                                         1.0   \n",
              "1                                         1.0   \n",
              "2                                         1.0   \n",
              "3                                         1.0   \n",
              "4                                         1.0   \n",
              "...                                       ...   \n",
              "4419                                      1.0   \n",
              "4420                                      1.0   \n",
              "4421                                      1.0   \n",
              "4422                                      1.0   \n",
              "4423                                      1.0   \n",
              "\n",
              "      Qualificação prévia_Educação superior - bacharelado  \\\n",
              "0                                                   0.0     \n",
              "1                                                   0.0     \n",
              "2                                                   0.0     \n",
              "3                                                   0.0     \n",
              "4                                                   0.0     \n",
              "...                                                 ...     \n",
              "4419                                                0.0     \n",
              "4420                                                0.0     \n",
              "4421                                                0.0     \n",
              "4422                                                0.0     \n",
              "4423                                                0.0     \n",
              "\n",
              "      Qualificação prévia_Educação superior - doutorado  \\\n",
              "0                                                   0.0   \n",
              "1                                                   0.0   \n",
              "2                                                   0.0   \n",
              "3                                                   0.0   \n",
              "4                                                   0.0   \n",
              "...                                                 ...   \n",
              "4419                                                0.0   \n",
              "4420                                                0.0   \n",
              "4421                                                0.0   \n",
              "4422                                                0.0   \n",
              "4423                                                0.0   \n",
              "\n",
              "      Qualificação prévia_Educação superior - licenciatura  \\\n",
              "0                                                   0.0      \n",
              "1                                                   0.0      \n",
              "2                                                   0.0      \n",
              "3                                                   0.0      \n",
              "4                                                   0.0      \n",
              "...                                                 ...      \n",
              "4419                                                0.0      \n",
              "4420                                                0.0      \n",
              "4421                                                0.0      \n",
              "4422                                                0.0      \n",
              "4423                                                0.0      \n",
              "\n",
              "      Qualificação prévia_Educação superior - licenciatura (1º ciclo)  \\\n",
              "0                                                   0.0                 \n",
              "1                                                   0.0                 \n",
              "2                                                   0.0                 \n",
              "3                                                   0.0                 \n",
              "4                                                   0.0                 \n",
              "...                                                 ...                 \n",
              "4419                                                0.0                 \n",
              "4420                                                0.0                 \n",
              "4421                                                0.0                 \n",
              "4422                                                0.0                 \n",
              "4423                                                0.0                 \n",
              "\n",
              "     Qualificação prévia_Educação superior - mestrado  \\\n",
              "0                                                 0.0   \n",
              "1                                                 0.0   \n",
              "2                                                 0.0   \n",
              "3                                                 0.0   \n",
              "4                                                 0.0   \n",
              "...                                               ...   \n",
              "4419                                              0.0   \n",
              "4420                                              0.0   \n",
              "4421                                              0.0   \n",
              "4422                                              0.0   \n",
              "4423                                              0.0   \n",
              "\n",
              "      Qualificação prévia_Educação superior - mestrado (2º ciclo)  \\\n",
              "0                                                   0.0             \n",
              "1                                                   0.0             \n",
              "2                                                   0.0             \n",
              "3                                                   0.0             \n",
              "4                                                   0.0             \n",
              "...                                                 ...             \n",
              "4419                                                0.0             \n",
              "4420                                                0.0             \n",
              "4421                                                0.0             \n",
              "4422                                                0.0             \n",
              "4423                                                0.0             \n",
              "\n",
              "      Qualificação prévia_Frequência de educação superior  \\\n",
              "0                                                   0.0     \n",
              "1                                                   0.0     \n",
              "2                                                   0.0     \n",
              "3                                                   0.0     \n",
              "4                                                   0.0     \n",
              "...                                                 ...     \n",
              "4419                                                0.0     \n",
              "4420                                                0.0     \n",
              "4421                                                0.0     \n",
              "4422                                                0.0     \n",
              "4423                                                0.0     \n",
              "\n",
              "      Qualificação prévia_Outro - 11º ano de escolaridade  \n",
              "0                                                   0.0    \n",
              "1                                                   0.0    \n",
              "2                                                   0.0    \n",
              "3                                                   0.0    \n",
              "4                                                   0.0    \n",
              "...                                                 ...    \n",
              "4419                                                0.0    \n",
              "4420                                                0.0    \n",
              "4421                                                0.0    \n",
              "4422                                                0.0    \n",
              "4423                                                0.0    \n",
              "\n",
              "[4424 rows x 65 columns]"
            ],
            "text/html": [
              "\n",
              "  <div id=\"df-c7683dfc-71fa-403f-8edd-a4abee3996cb\" class=\"colab-df-container\">\n",
              "    <div>\n",
              "<style scoped>\n",
              "    .dataframe tbody tr th:only-of-type {\n",
              "        vertical-align: middle;\n",
              "    }\n",
              "\n",
              "    .dataframe tbody tr th {\n",
              "        vertical-align: top;\n",
              "    }\n",
              "\n",
              "    .dataframe thead th {\n",
              "        text-align: right;\n",
              "    }\n",
              "</style>\n",
              "<table border=\"1\" class=\"dataframe\">\n",
              "  <thead>\n",
              "    <tr style=\"text-align: right;\">\n",
              "      <th></th>\n",
              "      <th>Idade na matrícula</th>\n",
              "      <th>Taxa de desemprego</th>\n",
              "      <th>Taxa de inflação</th>\n",
              "      <th>PIB</th>\n",
              "      <th>disciplinas 1º semestre (creditadas)</th>\n",
              "      <th>disciplinas 1º semestre (matriculadas)</th>\n",
              "      <th>disciplinas 1º semestre (avaliações)</th>\n",
              "      <th>disciplinas 1º semestre (aprovadas)</th>\n",
              "      <th>disciplinas 1º semestre (notas)</th>\n",
              "      <th>disciplinas 1º semestre (sem avaliações)</th>\n",
              "      <th>...</th>\n",
              "      <th>Qualificação prévia_Educação básica 3º ciclo (9º/10º/11º ano) ou equivalente</th>\n",
              "      <th>Qualificação prévia_Educação secundária</th>\n",
              "      <th>Qualificação prévia_Educação superior - bacharelado</th>\n",
              "      <th>Qualificação prévia_Educação superior - doutorado</th>\n",
              "      <th>Qualificação prévia_Educação superior - licenciatura</th>\n",
              "      <th>Qualificação prévia_Educação superior - licenciatura (1º ciclo)</th>\n",
              "      <th>Qualificação prévia_Educação superior - mestrado</th>\n",
              "      <th>Qualificação prévia_Educação superior - mestrado (2º ciclo)</th>\n",
              "      <th>Qualificação prévia_Frequência de educação superior</th>\n",
              "      <th>Qualificação prévia_Outro - 11º ano de escolaridade</th>\n",
              "    </tr>\n",
              "  </thead>\n",
              "  <tbody>\n",
              "    <tr>\n",
              "      <th>0</th>\n",
              "      <td>20</td>\n",
              "      <td>10.8</td>\n",
              "      <td>1.4</td>\n",
              "      <td>1.74</td>\n",
              "      <td>0</td>\n",
              "      <td>0</td>\n",
              "      <td>0</td>\n",
              "      <td>0</td>\n",
              "      <td>0.000000</td>\n",
              "      <td>0</td>\n",
              "      <td>...</td>\n",
              "      <td>0.0</td>\n",
              "      <td>1.0</td>\n",
              "      <td>0.0</td>\n",
              "      <td>0.0</td>\n",
              "      <td>0.0</td>\n",
              "      <td>0.0</td>\n",
              "      <td>0.0</td>\n",
              "      <td>0.0</td>\n",
              "      <td>0.0</td>\n",
              "      <td>0.0</td>\n",
              "    </tr>\n",
              "    <tr>\n",
              "      <th>1</th>\n",
              "      <td>19</td>\n",
              "      <td>13.9</td>\n",
              "      <td>-0.3</td>\n",
              "      <td>0.79</td>\n",
              "      <td>0</td>\n",
              "      <td>6</td>\n",
              "      <td>6</td>\n",
              "      <td>6</td>\n",
              "      <td>14.000000</td>\n",
              "      <td>0</td>\n",
              "      <td>...</td>\n",
              "      <td>0.0</td>\n",
              "      <td>1.0</td>\n",
              "      <td>0.0</td>\n",
              "      <td>0.0</td>\n",
              "      <td>0.0</td>\n",
              "      <td>0.0</td>\n",
              "      <td>0.0</td>\n",
              "      <td>0.0</td>\n",
              "      <td>0.0</td>\n",
              "      <td>0.0</td>\n",
              "    </tr>\n",
              "    <tr>\n",
              "      <th>2</th>\n",
              "      <td>19</td>\n",
              "      <td>10.8</td>\n",
              "      <td>1.4</td>\n",
              "      <td>1.74</td>\n",
              "      <td>0</td>\n",
              "      <td>6</td>\n",
              "      <td>0</td>\n",
              "      <td>0</td>\n",
              "      <td>0.000000</td>\n",
              "      <td>0</td>\n",
              "      <td>...</td>\n",
              "      <td>0.0</td>\n",
              "      <td>1.0</td>\n",
              "      <td>0.0</td>\n",
              "      <td>0.0</td>\n",
              "      <td>0.0</td>\n",
              "      <td>0.0</td>\n",
              "      <td>0.0</td>\n",
              "      <td>0.0</td>\n",
              "      <td>0.0</td>\n",
              "      <td>0.0</td>\n",
              "    </tr>\n",
              "    <tr>\n",
              "      <th>3</th>\n",
              "      <td>20</td>\n",
              "      <td>9.4</td>\n",
              "      <td>-0.8</td>\n",
              "      <td>-3.12</td>\n",
              "      <td>0</td>\n",
              "      <td>6</td>\n",
              "      <td>8</td>\n",
              "      <td>6</td>\n",
              "      <td>13.428571</td>\n",
              "      <td>0</td>\n",
              "      <td>...</td>\n",
              "      <td>0.0</td>\n",
              "      <td>1.0</td>\n",
              "      <td>0.0</td>\n",
              "      <td>0.0</td>\n",
              "      <td>0.0</td>\n",
              "      <td>0.0</td>\n",
              "      <td>0.0</td>\n",
              "      <td>0.0</td>\n",
              "      <td>0.0</td>\n",
              "      <td>0.0</td>\n",
              "    </tr>\n",
              "    <tr>\n",
              "      <th>4</th>\n",
              "      <td>45</td>\n",
              "      <td>13.9</td>\n",
              "      <td>-0.3</td>\n",
              "      <td>0.79</td>\n",
              "      <td>0</td>\n",
              "      <td>6</td>\n",
              "      <td>9</td>\n",
              "      <td>5</td>\n",
              "      <td>12.333333</td>\n",
              "      <td>0</td>\n",
              "      <td>...</td>\n",
              "      <td>0.0</td>\n",
              "      <td>1.0</td>\n",
              "      <td>0.0</td>\n",
              "      <td>0.0</td>\n",
              "      <td>0.0</td>\n",
              "      <td>0.0</td>\n",
              "      <td>0.0</td>\n",
              "      <td>0.0</td>\n",
              "      <td>0.0</td>\n",
              "      <td>0.0</td>\n",
              "    </tr>\n",
              "    <tr>\n",
              "      <th>...</th>\n",
              "      <td>...</td>\n",
              "      <td>...</td>\n",
              "      <td>...</td>\n",
              "      <td>...</td>\n",
              "      <td>...</td>\n",
              "      <td>...</td>\n",
              "      <td>...</td>\n",
              "      <td>...</td>\n",
              "      <td>...</td>\n",
              "      <td>...</td>\n",
              "      <td>...</td>\n",
              "      <td>...</td>\n",
              "      <td>...</td>\n",
              "      <td>...</td>\n",
              "      <td>...</td>\n",
              "      <td>...</td>\n",
              "      <td>...</td>\n",
              "      <td>...</td>\n",
              "      <td>...</td>\n",
              "      <td>...</td>\n",
              "      <td>...</td>\n",
              "    </tr>\n",
              "    <tr>\n",
              "      <th>4419</th>\n",
              "      <td>19</td>\n",
              "      <td>15.5</td>\n",
              "      <td>2.8</td>\n",
              "      <td>-4.06</td>\n",
              "      <td>0</td>\n",
              "      <td>6</td>\n",
              "      <td>7</td>\n",
              "      <td>5</td>\n",
              "      <td>13.600000</td>\n",
              "      <td>0</td>\n",
              "      <td>...</td>\n",
              "      <td>0.0</td>\n",
              "      <td>1.0</td>\n",
              "      <td>0.0</td>\n",
              "      <td>0.0</td>\n",
              "      <td>0.0</td>\n",
              "      <td>0.0</td>\n",
              "      <td>0.0</td>\n",
              "      <td>0.0</td>\n",
              "      <td>0.0</td>\n",
              "      <td>0.0</td>\n",
              "    </tr>\n",
              "    <tr>\n",
              "      <th>4420</th>\n",
              "      <td>18</td>\n",
              "      <td>11.1</td>\n",
              "      <td>0.6</td>\n",
              "      <td>2.02</td>\n",
              "      <td>0</td>\n",
              "      <td>6</td>\n",
              "      <td>6</td>\n",
              "      <td>6</td>\n",
              "      <td>12.000000</td>\n",
              "      <td>0</td>\n",
              "      <td>...</td>\n",
              "      <td>0.0</td>\n",
              "      <td>1.0</td>\n",
              "      <td>0.0</td>\n",
              "      <td>0.0</td>\n",
              "      <td>0.0</td>\n",
              "      <td>0.0</td>\n",
              "      <td>0.0</td>\n",
              "      <td>0.0</td>\n",
              "      <td>0.0</td>\n",
              "      <td>0.0</td>\n",
              "    </tr>\n",
              "    <tr>\n",
              "      <th>4421</th>\n",
              "      <td>30</td>\n",
              "      <td>13.9</td>\n",
              "      <td>-0.3</td>\n",
              "      <td>0.79</td>\n",
              "      <td>0</td>\n",
              "      <td>7</td>\n",
              "      <td>8</td>\n",
              "      <td>7</td>\n",
              "      <td>14.912500</td>\n",
              "      <td>0</td>\n",
              "      <td>...</td>\n",
              "      <td>0.0</td>\n",
              "      <td>1.0</td>\n",
              "      <td>0.0</td>\n",
              "      <td>0.0</td>\n",
              "      <td>0.0</td>\n",
              "      <td>0.0</td>\n",
              "      <td>0.0</td>\n",
              "      <td>0.0</td>\n",
              "      <td>0.0</td>\n",
              "      <td>0.0</td>\n",
              "    </tr>\n",
              "    <tr>\n",
              "      <th>4422</th>\n",
              "      <td>20</td>\n",
              "      <td>9.4</td>\n",
              "      <td>-0.8</td>\n",
              "      <td>-3.12</td>\n",
              "      <td>0</td>\n",
              "      <td>5</td>\n",
              "      <td>5</td>\n",
              "      <td>5</td>\n",
              "      <td>13.800000</td>\n",
              "      <td>0</td>\n",
              "      <td>...</td>\n",
              "      <td>0.0</td>\n",
              "      <td>1.0</td>\n",
              "      <td>0.0</td>\n",
              "      <td>0.0</td>\n",
              "      <td>0.0</td>\n",
              "      <td>0.0</td>\n",
              "      <td>0.0</td>\n",
              "      <td>0.0</td>\n",
              "      <td>0.0</td>\n",
              "      <td>0.0</td>\n",
              "    </tr>\n",
              "    <tr>\n",
              "      <th>4423</th>\n",
              "      <td>22</td>\n",
              "      <td>12.7</td>\n",
              "      <td>3.7</td>\n",
              "      <td>-1.70</td>\n",
              "      <td>0</td>\n",
              "      <td>6</td>\n",
              "      <td>8</td>\n",
              "      <td>6</td>\n",
              "      <td>11.666667</td>\n",
              "      <td>0</td>\n",
              "      <td>...</td>\n",
              "      <td>0.0</td>\n",
              "      <td>1.0</td>\n",
              "      <td>0.0</td>\n",
              "      <td>0.0</td>\n",
              "      <td>0.0</td>\n",
              "      <td>0.0</td>\n",
              "      <td>0.0</td>\n",
              "      <td>0.0</td>\n",
              "      <td>0.0</td>\n",
              "      <td>0.0</td>\n",
              "    </tr>\n",
              "  </tbody>\n",
              "</table>\n",
              "<p>4424 rows × 65 columns</p>\n",
              "</div>\n",
              "    <div class=\"colab-df-buttons\">\n",
              "\n",
              "  <div class=\"colab-df-container\">\n",
              "    <button class=\"colab-df-convert\" onclick=\"convertToInteractive('df-c7683dfc-71fa-403f-8edd-a4abee3996cb')\"\n",
              "            title=\"Convert this dataframe to an interactive table.\"\n",
              "            style=\"display:none;\">\n",
              "\n",
              "  <svg xmlns=\"http://www.w3.org/2000/svg\" height=\"24px\" viewBox=\"0 -960 960 960\">\n",
              "    <path d=\"M120-120v-720h720v720H120Zm60-500h600v-160H180v160Zm220 220h160v-160H400v160Zm0 220h160v-160H400v160ZM180-400h160v-160H180v160Zm440 0h160v-160H620v160ZM180-180h160v-160H180v160Zm440 0h160v-160H620v160Z\"/>\n",
              "  </svg>\n",
              "    </button>\n",
              "\n",
              "  <style>\n",
              "    .colab-df-container {\n",
              "      display:flex;\n",
              "      gap: 12px;\n",
              "    }\n",
              "\n",
              "    .colab-df-convert {\n",
              "      background-color: #E8F0FE;\n",
              "      border: none;\n",
              "      border-radius: 50%;\n",
              "      cursor: pointer;\n",
              "      display: none;\n",
              "      fill: #1967D2;\n",
              "      height: 32px;\n",
              "      padding: 0 0 0 0;\n",
              "      width: 32px;\n",
              "    }\n",
              "\n",
              "    .colab-df-convert:hover {\n",
              "      background-color: #E2EBFA;\n",
              "      box-shadow: 0px 1px 2px rgba(60, 64, 67, 0.3), 0px 1px 3px 1px rgba(60, 64, 67, 0.15);\n",
              "      fill: #174EA6;\n",
              "    }\n",
              "\n",
              "    .colab-df-buttons div {\n",
              "      margin-bottom: 4px;\n",
              "    }\n",
              "\n",
              "    [theme=dark] .colab-df-convert {\n",
              "      background-color: #3B4455;\n",
              "      fill: #D2E3FC;\n",
              "    }\n",
              "\n",
              "    [theme=dark] .colab-df-convert:hover {\n",
              "      background-color: #434B5C;\n",
              "      box-shadow: 0px 1px 3px 1px rgba(0, 0, 0, 0.15);\n",
              "      filter: drop-shadow(0px 1px 2px rgba(0, 0, 0, 0.3));\n",
              "      fill: #FFFFFF;\n",
              "    }\n",
              "  </style>\n",
              "\n",
              "    <script>\n",
              "      const buttonEl =\n",
              "        document.querySelector('#df-c7683dfc-71fa-403f-8edd-a4abee3996cb button.colab-df-convert');\n",
              "      buttonEl.style.display =\n",
              "        google.colab.kernel.accessAllowed ? 'block' : 'none';\n",
              "\n",
              "      async function convertToInteractive(key) {\n",
              "        const element = document.querySelector('#df-c7683dfc-71fa-403f-8edd-a4abee3996cb');\n",
              "        const dataTable =\n",
              "          await google.colab.kernel.invokeFunction('convertToInteractive',\n",
              "                                                    [key], {});\n",
              "        if (!dataTable) return;\n",
              "\n",
              "        const docLinkHtml = 'Like what you see? Visit the ' +\n",
              "          '<a target=\"_blank\" href=https://colab.research.google.com/notebooks/data_table.ipynb>data table notebook</a>'\n",
              "          + ' to learn more about interactive tables.';\n",
              "        element.innerHTML = '';\n",
              "        dataTable['output_type'] = 'display_data';\n",
              "        await google.colab.output.renderOutput(dataTable, element);\n",
              "        const docLink = document.createElement('div');\n",
              "        docLink.innerHTML = docLinkHtml;\n",
              "        element.appendChild(docLink);\n",
              "      }\n",
              "    </script>\n",
              "  </div>\n",
              "\n",
              "\n",
              "<div id=\"df-b6dbbeb5-df0c-4b85-afef-6607e8b96b72\">\n",
              "  <button class=\"colab-df-quickchart\" onclick=\"quickchart('df-b6dbbeb5-df0c-4b85-afef-6607e8b96b72')\"\n",
              "            title=\"Suggest charts\"\n",
              "            style=\"display:none;\">\n",
              "\n",
              "<svg xmlns=\"http://www.w3.org/2000/svg\" height=\"24px\"viewBox=\"0 0 24 24\"\n",
              "     width=\"24px\">\n",
              "    <g>\n",
              "        <path d=\"M19 3H5c-1.1 0-2 .9-2 2v14c0 1.1.9 2 2 2h14c1.1 0 2-.9 2-2V5c0-1.1-.9-2-2-2zM9 17H7v-7h2v7zm4 0h-2V7h2v10zm4 0h-2v-4h2v4z\"/>\n",
              "    </g>\n",
              "</svg>\n",
              "  </button>\n",
              "\n",
              "<style>\n",
              "  .colab-df-quickchart {\n",
              "      --bg-color: #E8F0FE;\n",
              "      --fill-color: #1967D2;\n",
              "      --hover-bg-color: #E2EBFA;\n",
              "      --hover-fill-color: #174EA6;\n",
              "      --disabled-fill-color: #AAA;\n",
              "      --disabled-bg-color: #DDD;\n",
              "  }\n",
              "\n",
              "  [theme=dark] .colab-df-quickchart {\n",
              "      --bg-color: #3B4455;\n",
              "      --fill-color: #D2E3FC;\n",
              "      --hover-bg-color: #434B5C;\n",
              "      --hover-fill-color: #FFFFFF;\n",
              "      --disabled-bg-color: #3B4455;\n",
              "      --disabled-fill-color: #666;\n",
              "  }\n",
              "\n",
              "  .colab-df-quickchart {\n",
              "    background-color: var(--bg-color);\n",
              "    border: none;\n",
              "    border-radius: 50%;\n",
              "    cursor: pointer;\n",
              "    display: none;\n",
              "    fill: var(--fill-color);\n",
              "    height: 32px;\n",
              "    padding: 0;\n",
              "    width: 32px;\n",
              "  }\n",
              "\n",
              "  .colab-df-quickchart:hover {\n",
              "    background-color: var(--hover-bg-color);\n",
              "    box-shadow: 0 1px 2px rgba(60, 64, 67, 0.3), 0 1px 3px 1px rgba(60, 64, 67, 0.15);\n",
              "    fill: var(--button-hover-fill-color);\n",
              "  }\n",
              "\n",
              "  .colab-df-quickchart-complete:disabled,\n",
              "  .colab-df-quickchart-complete:disabled:hover {\n",
              "    background-color: var(--disabled-bg-color);\n",
              "    fill: var(--disabled-fill-color);\n",
              "    box-shadow: none;\n",
              "  }\n",
              "\n",
              "  .colab-df-spinner {\n",
              "    border: 2px solid var(--fill-color);\n",
              "    border-color: transparent;\n",
              "    border-bottom-color: var(--fill-color);\n",
              "    animation:\n",
              "      spin 1s steps(1) infinite;\n",
              "  }\n",
              "\n",
              "  @keyframes spin {\n",
              "    0% {\n",
              "      border-color: transparent;\n",
              "      border-bottom-color: var(--fill-color);\n",
              "      border-left-color: var(--fill-color);\n",
              "    }\n",
              "    20% {\n",
              "      border-color: transparent;\n",
              "      border-left-color: var(--fill-color);\n",
              "      border-top-color: var(--fill-color);\n",
              "    }\n",
              "    30% {\n",
              "      border-color: transparent;\n",
              "      border-left-color: var(--fill-color);\n",
              "      border-top-color: var(--fill-color);\n",
              "      border-right-color: var(--fill-color);\n",
              "    }\n",
              "    40% {\n",
              "      border-color: transparent;\n",
              "      border-right-color: var(--fill-color);\n",
              "      border-top-color: var(--fill-color);\n",
              "    }\n",
              "    60% {\n",
              "      border-color: transparent;\n",
              "      border-right-color: var(--fill-color);\n",
              "    }\n",
              "    80% {\n",
              "      border-color: transparent;\n",
              "      border-right-color: var(--fill-color);\n",
              "      border-bottom-color: var(--fill-color);\n",
              "    }\n",
              "    90% {\n",
              "      border-color: transparent;\n",
              "      border-bottom-color: var(--fill-color);\n",
              "    }\n",
              "  }\n",
              "</style>\n",
              "\n",
              "  <script>\n",
              "    async function quickchart(key) {\n",
              "      const quickchartButtonEl =\n",
              "        document.querySelector('#' + key + ' button');\n",
              "      quickchartButtonEl.disabled = true;  // To prevent multiple clicks.\n",
              "      quickchartButtonEl.classList.add('colab-df-spinner');\n",
              "      try {\n",
              "        const charts = await google.colab.kernel.invokeFunction(\n",
              "            'suggestCharts', [key], {});\n",
              "      } catch (error) {\n",
              "        console.error('Error during call to suggestCharts:', error);\n",
              "      }\n",
              "      quickchartButtonEl.classList.remove('colab-df-spinner');\n",
              "      quickchartButtonEl.classList.add('colab-df-quickchart-complete');\n",
              "    }\n",
              "    (() => {\n",
              "      let quickchartButtonEl =\n",
              "        document.querySelector('#df-b6dbbeb5-df0c-4b85-afef-6607e8b96b72 button');\n",
              "      quickchartButtonEl.style.display =\n",
              "        google.colab.kernel.accessAllowed ? 'block' : 'none';\n",
              "    })();\n",
              "  </script>\n",
              "</div>\n",
              "\n",
              "  <div id=\"id_ccce07fb-9c83-4f8e-86e2-7f01562829d8\">\n",
              "    <style>\n",
              "      .colab-df-generate {\n",
              "        background-color: #E8F0FE;\n",
              "        border: none;\n",
              "        border-radius: 50%;\n",
              "        cursor: pointer;\n",
              "        display: none;\n",
              "        fill: #1967D2;\n",
              "        height: 32px;\n",
              "        padding: 0 0 0 0;\n",
              "        width: 32px;\n",
              "      }\n",
              "\n",
              "      .colab-df-generate:hover {\n",
              "        background-color: #E2EBFA;\n",
              "        box-shadow: 0px 1px 2px rgba(60, 64, 67, 0.3), 0px 1px 3px 1px rgba(60, 64, 67, 0.15);\n",
              "        fill: #174EA6;\n",
              "      }\n",
              "\n",
              "      [theme=dark] .colab-df-generate {\n",
              "        background-color: #3B4455;\n",
              "        fill: #D2E3FC;\n",
              "      }\n",
              "\n",
              "      [theme=dark] .colab-df-generate:hover {\n",
              "        background-color: #434B5C;\n",
              "        box-shadow: 0px 1px 3px 1px rgba(0, 0, 0, 0.15);\n",
              "        filter: drop-shadow(0px 1px 2px rgba(0, 0, 0, 0.3));\n",
              "        fill: #FFFFFF;\n",
              "      }\n",
              "    </style>\n",
              "    <button class=\"colab-df-generate\" onclick=\"generateWithVariable('df_final')\"\n",
              "            title=\"Generate code using this dataframe.\"\n",
              "            style=\"display:none;\">\n",
              "\n",
              "  <svg xmlns=\"http://www.w3.org/2000/svg\" height=\"24px\"viewBox=\"0 0 24 24\"\n",
              "       width=\"24px\">\n",
              "    <path d=\"M7,19H8.4L18.45,9,17,7.55,7,17.6ZM5,21V16.75L18.45,3.32a2,2,0,0,1,2.83,0l1.4,1.43a1.91,1.91,0,0,1,.58,1.4,1.91,1.91,0,0,1-.58,1.4L9.25,21ZM18.45,9,17,7.55Zm-12,3A5.31,5.31,0,0,0,4.9,8.1,5.31,5.31,0,0,0,1,6.5,5.31,5.31,0,0,0,4.9,4.9,5.31,5.31,0,0,0,6.5,1,5.31,5.31,0,0,0,8.1,4.9,5.31,5.31,0,0,0,12,6.5,5.46,5.46,0,0,0,6.5,12Z\"/>\n",
              "  </svg>\n",
              "    </button>\n",
              "    <script>\n",
              "      (() => {\n",
              "      const buttonEl =\n",
              "        document.querySelector('#id_ccce07fb-9c83-4f8e-86e2-7f01562829d8 button.colab-df-generate');\n",
              "      buttonEl.style.display =\n",
              "        google.colab.kernel.accessAllowed ? 'block' : 'none';\n",
              "\n",
              "      buttonEl.onclick = () => {\n",
              "        google.colab.notebook.generateWithVariable('df_final');\n",
              "      }\n",
              "      })();\n",
              "    </script>\n",
              "  </div>\n",
              "\n",
              "    </div>\n",
              "  </div>\n"
            ]
          },
          "metadata": {},
          "execution_count": 33
        }
      ]
    },
    {
      "cell_type": "markdown",
      "source": [
        "No gráfico acima é possível observar que os dados possuem escalas diferentes, exemplo: idade vai de 17 a 70 enquanto as taxas de inflação e PIB tem outros intervalos. Se estivessemos usando KNN precisaríamos normalizar, mas como estamos usando a árvore, nós não normalizamos pois pode piorar o modelo."
      ],
      "metadata": {
        "id": "IoCM-8ZnN96y"
      }
    },
    {
      "cell_type": "markdown",
      "source": [
        "##Utilizando o modelo"
      ],
      "metadata": {
        "id": "p51F7X5rRYrE"
      }
    },
    {
      "cell_type": "code",
      "source": [
        "X = df_final.drop('Target',axis=1)\n",
        "y = df_final['Target']"
      ],
      "metadata": {
        "id": "eZEY1N_fL0LJ"
      },
      "execution_count": 34,
      "outputs": []
    },
    {
      "cell_type": "markdown",
      "source": [
        "separação dos dados"
      ],
      "metadata": {
        "id": "anTEnXP0Tn_Y"
      }
    },
    {
      "cell_type": "code",
      "source": [
        "from sklearn.model_selection import train_test_split\n"
      ],
      "metadata": {
        "id": "bbpnnq8DRWak"
      },
      "execution_count": 35,
      "outputs": []
    },
    {
      "cell_type": "code",
      "source": [
        "X,X_test,y,y_test = train_test_split(X,y,test_size=0.15,stratify=y,random_state=0)\n",
        "X_train,X_val,y_train,y_val = train_test_split(X,y,test_size=0.25,stratify=y,random_state=0)"
      ],
      "metadata": {
        "id": "iu1cBcv1Tmie"
      },
      "execution_count": 36,
      "outputs": []
    },
    {
      "cell_type": "code",
      "source": [
        "from sklearn.ensemble import RandomForestClassifier"
      ],
      "metadata": {
        "id": "M04okTDxT4uE"
      },
      "execution_count": 37,
      "outputs": []
    },
    {
      "cell_type": "code",
      "source": [
        "model_rf = RandomForestClassifier(random_state=0)\n",
        "model_rf.fit(X_train,y_train)\n",
        "y_pred = model_rf.predict(X_val)\n",
        "print(f'Acurácia de treino:{model_rf.score(X_train,y_train)}')\n",
        "print(f'Acurácia de validação:{model_rf.score(X_val,y_val)}')"
      ],
      "metadata": {
        "colab": {
          "base_uri": "https://localhost:8080/"
        },
        "id": "JuetvvqLbAWS",
        "outputId": "9c715d6a-d4fb-4fbc-817b-b9dab9c07b6e"
      },
      "execution_count": 38,
      "outputs": [
        {
          "output_type": "stream",
          "name": "stdout",
          "text": [
            "Acurácia de treino:0.9975177304964539\n",
            "Acurácia de validação:0.7787234042553192\n"
          ]
        }
      ]
    },
    {
      "cell_type": "code",
      "source": [
        "model_rf = RandomForestClassifier(random_state=0,max_depth=10)\n",
        "model_rf.fit(X_train,y_train)\n",
        "y_pred = model_rf.predict(X_val)\n",
        "print(f'Acurácia de treino:{model_rf.score(X_train,y_train)}')\n",
        "print(f'Acurácia de validação:{model_rf.score(X_val,y_val)}')"
      ],
      "metadata": {
        "colab": {
          "base_uri": "https://localhost:8080/"
        },
        "id": "pKJN4JEQbJ3p",
        "outputId": "43a2b923-8e24-4a9f-fc5c-3f87aa69a3b7"
      },
      "execution_count": 39,
      "outputs": [
        {
          "output_type": "stream",
          "name": "stdout",
          "text": [
            "Acurácia de treino:0.8946808510638298\n",
            "Acurácia de validação:0.7755319148936171\n"
          ]
        }
      ]
    },
    {
      "cell_type": "markdown",
      "source": [
        "####Conhecendo GradientBoostingClassifier\n",
        "\n",
        "Faz parte da família de algoritmos de impulso (boosting) e é conhecido por sua capacidade de melhorar gradualmente o desempenho do modelo, combinando várias árvores de decisão fracas em um modelo mais robusto e preciso."
      ],
      "metadata": {
        "id": "z-KqAOv2eeEg"
      }
    },
    {
      "cell_type": "code",
      "source": [
        "from sklearn.ensemble import GradientBoostingClassifier\n",
        "\n",
        "modelo_gb = GradientBoostingClassifier(random_state=0)\n",
        "modelo_gb.fit(X_train, y_train)\n",
        "y_pred_gb = modelo_gb.predict(X_val)\n",
        "print(f'Acurácia de treino: {modelo_gb.score(X_train, y_train)}')\n",
        "print(f'Acurácia de validação: {modelo_gb.score(X_val, y_val)}')\n"
      ],
      "metadata": {
        "colab": {
          "base_uri": "https://localhost:8080/"
        },
        "id": "VXWUe046b63v",
        "outputId": "13f876c9-bc34-407b-95bf-c500d83e895e"
      },
      "execution_count": 40,
      "outputs": [
        {
          "output_type": "stream",
          "name": "stdout",
          "text": [
            "Acurácia de treino: 0.8411347517730496\n",
            "Acurácia de validação: 0.7702127659574468\n"
          ]
        }
      ]
    },
    {
      "cell_type": "markdown",
      "source": [
        "Testando o balanceamento no GradientBoostingClassifier"
      ],
      "metadata": {
        "id": "vspXRjLt0M5x"
      }
    },
    {
      "cell_type": "code",
      "source": [
        "from imblearn.over_sampling import SMOTE\n",
        "from sklearn.metrics import ConfusionMatrixDisplay\n",
        "from sklearn.metrics import classification_report\n",
        "\n",
        "oversample = SMOTE(random_state=0)\n",
        "X_balanced_gb, y_balanced_gb = oversample.fit_resample(X_train, y_train)\n",
        "\n",
        "modelo_gb = GradientBoostingClassifier(random_state=0)\n",
        "modelo_gb.fit(X_balanced_gb, y_balanced_gb)\n",
        "y_pred_gb = modelo_gb.predict(X_val)\n",
        "\n",
        "ConfusionMatrixDisplay.from_estimator(modelo_gb, X_val, y_val, normalize = 'true', cmap = 'Blues');\n",
        "\n",
        "report_gb = classification_report(y_val, y_pred_gb)\n",
        "print(\"Relatório de Classificação:\\n\", report_gb)\n"
      ],
      "metadata": {
        "colab": {
          "base_uri": "https://localhost:8080/",
          "height": 640
        },
        "id": "de8aFsmbzZla",
        "outputId": "f54dc4da-7085-4b48-dfee-bdbdbf4bae64"
      },
      "execution_count": 41,
      "outputs": [
        {
          "output_type": "stream",
          "name": "stdout",
          "text": [
            "Relatório de Classificação:\n",
            "               precision    recall  f1-score   support\n",
            "\n",
            "  Desistente       0.83      0.74      0.78       302\n",
            "    Graduado       0.82      0.89      0.85       469\n",
            " Matriculado       0.50      0.47      0.49       169\n",
            "\n",
            "    accuracy                           0.76       940\n",
            "   macro avg       0.71      0.70      0.71       940\n",
            "weighted avg       0.76      0.76      0.76       940\n",
            "\n"
          ]
        },
        {
          "output_type": "display_data",
          "data": {
            "text/plain": [
              "<Figure size 640x480 with 2 Axes>"
            ],
            "image/png": "[encoded data removed]"
          },
          "metadata": {}
        }
      ]
    },
    {
      "cell_type": "markdown",
      "source": [
        "###Matriz de confusão"
      ],
      "metadata": {
        "id": "gz0-9uVTfMLe"
      }
    },
    {
      "cell_type": "code",
      "source": [
        "from sklearn.metrics import confusion_matrix, ConfusionMatrixDisplay"
      ],
      "metadata": {
        "id": "4P5dkeIMfZA2"
      },
      "execution_count": 42,
      "outputs": []
    },
    {
      "cell_type": "code",
      "source": [
        "matriz_confusao = confusion_matrix(y_val,y_pred)"
      ],
      "metadata": {
        "id": "cl1pgdvlfglb"
      },
      "execution_count": 43,
      "outputs": []
    },
    {
      "cell_type": "code",
      "source": [
        "visualization = ConfusionMatrixDisplay(confusion_matrix = matriz_confusao,display_labels=model_rf.classes_)\n",
        "visualization.plot()"
      ],
      "metadata": {
        "colab": {
          "base_uri": "https://localhost:8080/",
          "height": 471
        },
        "id": "Bj4C291QfqH7",
        "outputId": "e6c73ce2-12f1-4beb-ac21-1031b2d793a2"
      },
      "execution_count": 44,
      "outputs": [
        {
          "output_type": "execute_result",
          "data": {
            "text/plain": [
              "<sklearn.metrics._plot.confusion_matrix.ConfusionMatrixDisplay at 0x7af7a5198130>"
            ]
          },
          "metadata": {},
          "execution_count": 44
        },
        {
          "output_type": "display_data",
          "data": {
            "text/plain": [
              "<Figure size 640x480 with 2 Axes>"
            ],
            "image/png": "[encoded data removed]"
          },
          "metadata": {}
        }
      ]
    },
    {
      "cell_type": "code",
      "source": [
        "visu_normalized = ConfusionMatrixDisplay.from_predictions(y_val,y_pred,normalize='true',cmap='Blues')"
      ],
      "metadata": {
        "colab": {
          "base_uri": "https://localhost:8080/",
          "height": 449
        },
        "id": "ZfbIgNMSf2IC",
        "outputId": "b5a71a1d-b818-4a06-9567-e63a817ed73e"
      },
      "execution_count": 45,
      "outputs": [
        {
          "output_type": "display_data",
          "data": {
            "text/plain": [
              "<Figure size 640x480 with 2 Axes>"
            ],
            "image/png": "[encoded data removed]"
          },
          "metadata": {}
        }
      ]
    },
    {
      "cell_type": "code",
      "source": [
        "conf_matrix = confusion_matrix(y_val, y_pred, normalize='true')\n",
        "print(f\"Com o gráfico normalizado podemos ver que {conf_matrix[0][0].round(2)}% dos desistentes são realmente desistentes, porém {conf_matrix[0][1].round(2)}% são desistentes e foram marcados como graduados\")\n",
        "print(f\"Dos graduados {conf_matrix[1][1].round(2)}% foram marcados de forma correta\")\n",
        "print(f\"Dos matriculados {conf_matrix[2][2].round(2)}% foram marcados de forma correta, enquanto {conf_matrix[2][0].round(2)}% foram marcados como desistentes e {conf_matrix[2][1].round(2)}% foram marcados como graduado\")"
      ],
      "metadata": {
        "colab": {
          "base_uri": "https://localhost:8080/"
        },
        "id": "CRHQv63DjYhi",
        "outputId": "935220ad-c580-45ea-8c8e-3c2856b6045a"
      },
      "execution_count": 46,
      "outputs": [
        {
          "output_type": "stream",
          "name": "stdout",
          "text": [
            "Com o gráfico normalizado podemos ver que 0.77% dos desistentes são realmente desistentes, porém 0.17% são desistentes e foram marcados como graduados\n",
            "Dos graduados 0.96% foram marcados de forma correta\n",
            "Dos matriculados 0.27% foram marcados de forma correta, enquanto 0.24% foram marcados como desistentes e 0.49% foram marcados como graduado\n"
          ]
        }
      ]
    },
    {
      "cell_type": "code",
      "source": [
        "from sklearn.metrics import classification_report"
      ],
      "metadata": {
        "id": "3DsVZ82nroLw"
      },
      "execution_count": 47,
      "outputs": []
    },
    {
      "cell_type": "code",
      "source": [
        "report = classification_report(y_val,y_pred)\n",
        "print('relatório de classificação: \\n',report)"
      ],
      "metadata": {
        "colab": {
          "base_uri": "https://localhost:8080/"
        },
        "id": "AHi7HlwHsU3j",
        "outputId": "ea0d87d7-5a5e-4e5f-d000-bf433c17061b"
      },
      "execution_count": 48,
      "outputs": [
        {
          "output_type": "stream",
          "name": "stdout",
          "text": [
            "relatório de classificação: \n",
            "               precision    recall  f1-score   support\n",
            "\n",
            "  Desistente       0.82      0.77      0.79       302\n",
            "    Graduado       0.77      0.96      0.86       469\n",
            " Matriculado       0.62      0.27      0.38       169\n",
            "\n",
            "    accuracy                           0.78       940\n",
            "   macro avg       0.74      0.67      0.68       940\n",
            "weighted avg       0.76      0.78      0.75       940\n",
            "\n"
          ]
        }
      ]
    },
    {
      "cell_type": "markdown",
      "source": [
        "precision: instâncias classificadas como positivas que são verdadeiramente positivas, assim tendo menos falsos positivos\n",
        "\n",
        "recall: nstâncias verdadeiramente positivas que foram corretamente identificadas pelo modelo de forma que tenha menos falsos negativos"
      ],
      "metadata": {
        "id": "NFq76xYLtfNx"
      }
    },
    {
      "cell_type": "markdown",
      "source": [
        "Balanceando o modelo"
      ],
      "metadata": {
        "id": "pxQI91SywXwq"
      }
    },
    {
      "cell_type": "code",
      "source": [
        "y_train.value_counts()"
      ],
      "metadata": {
        "colab": {
          "base_uri": "https://localhost:8080/"
        },
        "id": "BsZV6ofwsZIn",
        "outputId": "7d9a9962-81be-4818-86e9-48b2d8bb571f"
      },
      "execution_count": 49,
      "outputs": [
        {
          "output_type": "execute_result",
          "data": {
            "text/plain": [
              "Graduado       1408\n",
              "Desistente      906\n",
              "Matriculado     506\n",
              "Name: Target, dtype: int64"
            ]
          },
          "metadata": {},
          "execution_count": 49
        }
      ]
    },
    {
      "cell_type": "code",
      "source": [
        "from imblearn.over_sampling import SMOTE"
      ],
      "metadata": {
        "id": "C8oI_wf2wVrA"
      },
      "execution_count": 50,
      "outputs": []
    },
    {
      "cell_type": "code",
      "source": [
        "oversample = SMOTE(random_state=0)"
      ],
      "metadata": {
        "id": "aasNLtAxwiir"
      },
      "execution_count": 51,
      "outputs": []
    },
    {
      "cell_type": "code",
      "source": [
        "X_balanced, y_balanced = oversample.fit_resample(X_train,y_train)"
      ],
      "metadata": {
        "id": "_fjWwxDRwoZ3"
      },
      "execution_count": 52,
      "outputs": []
    },
    {
      "cell_type": "code",
      "source": [
        "y_balanced.value_counts()"
      ],
      "metadata": {
        "colab": {
          "base_uri": "https://localhost:8080/"
        },
        "id": "xuXLVAMrw331",
        "outputId": "70743655-2336-4063-98e6-38eb754c6796"
      },
      "execution_count": 53,
      "outputs": [
        {
          "output_type": "execute_result",
          "data": {
            "text/plain": [
              "Desistente     1408\n",
              "Graduado       1408\n",
              "Matriculado    1408\n",
              "Name: Target, dtype: int64"
            ]
          },
          "metadata": {},
          "execution_count": 53
        }
      ]
    },
    {
      "cell_type": "code",
      "source": [
        "model = RandomForestClassifier(random_state=0,max_depth=10)\n",
        "model.fit(X_balanced,y_balanced)\n",
        "y_pred_balanced = model.predict(X_val)"
      ],
      "metadata": {
        "id": "YN2tLYvgw8wb"
      },
      "execution_count": 54,
      "outputs": []
    },
    {
      "cell_type": "code",
      "source": [
        "print(classification_report(y_val,y_pred_balanced))\n",
        "ConfusionMatrixDisplay.from_predictions(y_val,y_pred_balanced,normalize='true',cmap='Blues')"
      ],
      "metadata": {
        "colab": {
          "base_uri": "https://localhost:8080/",
          "height": 640
        },
        "id": "aEMaUFckxFio",
        "outputId": "03453fcf-eae5-4a0d-cd5e-038decc70624"
      },
      "execution_count": 55,
      "outputs": [
        {
          "output_type": "stream",
          "name": "stdout",
          "text": [
            "              precision    recall  f1-score   support\n",
            "\n",
            "  Desistente       0.87      0.72      0.79       302\n",
            "    Graduado       0.81      0.87      0.84       469\n",
            " Matriculado       0.49      0.54      0.52       169\n",
            "\n",
            "    accuracy                           0.76       940\n",
            "   macro avg       0.72      0.71      0.71       940\n",
            "weighted avg       0.77      0.76      0.76       940\n",
            "\n"
          ]
        },
        {
          "output_type": "execute_result",
          "data": {
            "text/plain": [
              "<sklearn.metrics._plot.confusion_matrix.ConfusionMatrixDisplay at 0x7af7a134d3c0>"
            ]
          },
          "metadata": {},
          "execution_count": 55
        },
        {
          "output_type": "display_data",
          "data": {
            "text/plain": [
              "<Figure size 640x480 with 2 Axes>"
            ],
            "image/png": "[encoded data removed]"
          },
          "metadata": {}
        }
      ]
    },
    {
      "cell_type": "code",
      "source": [
        "from imblearn.pipeline import Pipeline as imbpipeline\n",
        "model = RandomForestClassifier(random_state=0, max_depth=10)\n",
        "pipeline = imbpipeline([('oversample', SMOTE()), ('randomforest', model)])\n"
      ],
      "metadata": {
        "id": "TA1hAAxq1We_"
      },
      "execution_count": 56,
      "outputs": []
    },
    {
      "cell_type": "code",
      "source": [
        "from sklearn.model_selection import cross_validate,StratifiedKFold"
      ],
      "metadata": {
        "id": "MNPCCKkP1mJl"
      },
      "execution_count": 57,
      "outputs": []
    },
    {
      "cell_type": "code",
      "source": [
        "skf = StratifiedKFold(n_splits=5,shuffle=True,random_state=0)"
      ],
      "metadata": {
        "id": "LpFWnwtm2w21"
      },
      "execution_count": 58,
      "outputs": []
    },
    {
      "cell_type": "markdown",
      "source": [
        "shuffle = embaralha os dados"
      ],
      "metadata": {
        "id": "qllHv7ze3DCc"
      }
    },
    {
      "cell_type": "code",
      "source": [
        "cv_results = cross_validate(pipeline,X,y,cv=skf,scoring='recall_weighted')\n",
        "cv_results['test_score']"
      ],
      "metadata": {
        "colab": {
          "base_uri": "https://localhost:8080/"
        },
        "id": "4lAPH75U26Ft",
        "outputId": "c90ccbce-0b77-4509-f7fb-0674729311f0"
      },
      "execution_count": 59,
      "outputs": [
        {
          "output_type": "execute_result",
          "data": {
            "text/plain": [
              "array([0.7712766 , 0.73138298, 0.74601064, 0.76462766, 0.75930851])"
            ]
          },
          "metadata": {},
          "execution_count": 59
        }
      ]
    },
    {
      "cell_type": "code",
      "source": [
        "media = cv_results['test_score'].mean()\n",
        "desvio_padrao = cv_results['test_score'].std()\n",
        "print(f'intervalo de confiança: [{media - 2 * desvio_padrao}, {min(media + 2 * desvio_padrao, 1.0)}]')\n"
      ],
      "metadata": {
        "colab": {
          "base_uri": "https://localhost:8080/"
        },
        "id": "gi-Hp3Nk3R1Q",
        "outputId": "27d02254-3ed1-4c05-df19-657bbdf66278"
      },
      "execution_count": 60,
      "outputs": [
        {
          "output_type": "stream",
          "name": "stdout",
          "text": [
            "intervalo de confiança: [0.7260451940120762, 0.782997359179413]\n"
          ]
        }
      ]
    },
    {
      "cell_type": "markdown",
      "source": [
        "Testar o modelo"
      ],
      "metadata": {
        "id": "kp6fG0VJ7iD9"
      }
    },
    {
      "cell_type": "code",
      "source": [
        "X_balanced, y_balanced = oversample.fit_resample(X_train,y_train)"
      ],
      "metadata": {
        "id": "a3a9hZav5SdE"
      },
      "execution_count": 61,
      "outputs": []
    },
    {
      "cell_type": "code",
      "source": [
        "model = RandomForestClassifier(random_state=0,max_depth=10)\n",
        "model.fit(X_balanced,y_balanced)\n",
        "y_pred = model.predict(X_test)\n",
        "print(classification_report(y_test,y_pred))\n",
        "ConfusionMatrixDisplay.from_predictions(y_test,y_pred,normalize='true',cmap='Blues')"
      ],
      "metadata": {
        "colab": {
          "base_uri": "https://localhost:8080/",
          "height": 640
        },
        "id": "YB3bSBLh5WCo",
        "outputId": "163a1011-2671-44b8-8169-4533691a7f8c"
      },
      "execution_count": 62,
      "outputs": [
        {
          "output_type": "stream",
          "name": "stdout",
          "text": [
            "              precision    recall  f1-score   support\n",
            "\n",
            "  Desistente       0.87      0.74      0.80       213\n",
            "    Graduado       0.82      0.85      0.83       332\n",
            " Matriculado       0.45      0.53      0.49       119\n",
            "\n",
            "    accuracy                           0.76       664\n",
            "   macro avg       0.71      0.71      0.71       664\n",
            "weighted avg       0.77      0.76      0.76       664\n",
            "\n"
          ]
        },
        {
          "output_type": "execute_result",
          "data": {
            "text/plain": [
              "<sklearn.metrics._plot.confusion_matrix.ConfusionMatrixDisplay at 0x7af7a14bfdc0>"
            ]
          },
          "metadata": {},
          "execution_count": 62
        },
        {
          "output_type": "display_data",
          "data": {
            "text/plain": [
              "<Figure size 640x480 with 2 Axes>"
            ],
            "image/png": "[encoded data removed]"
          },
          "metadata": {}
        }
      ]
    },
    {
      "cell_type": "markdown",
      "source": [
        "##Desafio\n"
      ],
      "metadata": {
        "id": "Fwnc80kx92i_"
      }
    },
    {
      "cell_type": "code",
      "source": [
        "import pandas as pd\n",
        "df = pd.read_csv('https://raw.githubusercontent.com/vqrca/classificacao_multiclasse/main/Dados/df_vinho.csv')\n"
      ],
      "metadata": {
        "id": "tVqzBX188Vnt"
      },
      "execution_count": 63,
      "outputs": []
    },
    {
      "cell_type": "code",
      "source": [
        "df.info()\n"
      ],
      "metadata": {
        "colab": {
          "base_uri": "https://localhost:8080/"
        },
        "id": "YvPX8g4Z96dL",
        "outputId": "ae82e41a-1099-40e4-e6f3-95dc76dc5645"
      },
      "execution_count": 64,
      "outputs": [
        {
          "output_type": "stream",
          "name": "stdout",
          "text": [
            "<class 'pandas.core.frame.DataFrame'>\n",
            "RangeIndex: 1359 entries, 0 to 1358\n",
            "Data columns (total 12 columns):\n",
            " #   Column                     Non-Null Count  Dtype  \n",
            "---  ------                     --------------  -----  \n",
            " 0   acidez fixa                1359 non-null   float64\n",
            " 1   acidez volátil             1359 non-null   float64\n",
            " 2   ácido cítrico              1359 non-null   float64\n",
            " 3   açúcar residual            1359 non-null   float64\n",
            " 4   cloretos                   1359 non-null   float64\n",
            " 5   dióxido de enxofre livre   1359 non-null   float64\n",
            " 6   dióxido de enxofre total   1359 non-null   float64\n",
            " 7   densidade                  1359 non-null   float64\n",
            " 8   pH                         1359 non-null   float64\n",
            " 9   sulfatos                   1359 non-null   float64\n",
            " 10  álcool                     1359 non-null   float64\n",
            " 11  qualidade                  1359 non-null   object \n",
            "dtypes: float64(11), object(1)\n",
            "memory usage: 127.5+ KB\n"
          ]
        }
      ]
    },
    {
      "cell_type": "code",
      "source": [
        "X = df.drop('qualidade', axis=1)\n",
        "y = df['qualidade']\n"
      ],
      "metadata": {
        "id": "ugB_F3gA98vJ"
      },
      "execution_count": 65,
      "outputs": []
    },
    {
      "cell_type": "code",
      "source": [
        "from sklearn.model_selection import train_test_split\n",
        "\n",
        "X, X_teste, y, y_teste = train_test_split(X, y, test_size=0.15, stratify=y, random_state=0)\n",
        "X_treino, X_val, y_treino, y_val = train_test_split(X, y, stratify=y, random_state=0)\n"
      ],
      "metadata": {
        "id": "75cZ6IkS-AuM"
      },
      "execution_count": 66,
      "outputs": []
    },
    {
      "cell_type": "code",
      "source": [
        "from sklearn.ensemble import RandomForestClassifier\n",
        "\n",
        "modelo_rf = RandomForestClassifier(random_state=0, max_depth=5)\n",
        "modelo_rf.fit(X_treino, y_treino)\n",
        "y_pred = modelo_rf.predict(X_val)\n",
        "print(f'Acurácia de treino: {modelo_rf.score(X_treino, y_treino)}')\n",
        "print(f'Acurácia de validação: {modelo_rf.score(X_val, y_val)}')\n"
      ],
      "metadata": {
        "colab": {
          "base_uri": "https://localhost:8080/"
        },
        "id": "1M85LRXy-CQs",
        "outputId": "60e16f1e-d9ec-4a4a-eac5-cf71111732f5"
      },
      "execution_count": 67,
      "outputs": [
        {
          "output_type": "stream",
          "name": "stdout",
          "text": [
            "Acurácia de treino: 0.8868360277136259\n",
            "Acurácia de validação: 0.8304498269896193\n"
          ]
        }
      ]
    },
    {
      "cell_type": "code",
      "source": [
        "from sklearn.metrics import ConfusionMatrixDisplay\n",
        "ConfusionMatrixDisplay.from_estimator(modelo_rf, X_val, y_val, normalize = 'true', cmap = 'Blues');\n"
      ],
      "metadata": {
        "colab": {
          "base_uri": "https://localhost:8080/",
          "height": 455
        },
        "id": "D8izN3VB-KLS",
        "outputId": "3b9e2e00-77df-48aa-ae88-0c362198ba1e"
      },
      "execution_count": 68,
      "outputs": [
        {
          "output_type": "display_data",
          "data": {
            "text/plain": [
              "<Figure size 640x480 with 2 Axes>"
            ],
            "image/png": "[encoded data removed]"
          },
          "metadata": {}
        }
      ]
    },
    {
      "cell_type": "code",
      "source": [
        "from sklearn.metrics import classification_report\n",
        "\n",
        "report = classification_report(y_val, y_pred)\n",
        "print(\"Relatório de Classificação:\\n\", report)\n"
      ],
      "metadata": {
        "colab": {
          "base_uri": "https://localhost:8080/"
        },
        "id": "DhVYbN8C-O2t",
        "outputId": "a20b24df-b7be-41c3-c68b-d55ea154cb35"
      },
      "execution_count": 69,
      "outputs": [
        {
          "output_type": "stream",
          "name": "stdout",
          "text": [
            "Relatório de Classificação:\n",
            "               precision    recall  f1-score   support\n",
            "\n",
            "         bom       0.64      0.23      0.34        39\n",
            "     mediano       0.84      0.98      0.90       236\n",
            "        ruim       0.00      0.00      0.00        14\n",
            "\n",
            "    accuracy                           0.83       289\n",
            "   macro avg       0.49      0.40      0.41       289\n",
            "weighted avg       0.77      0.83      0.78       289\n",
            "\n"
          ]
        },
        {
          "output_type": "stream",
          "name": "stderr",
          "text": [
            "/usr/local/lib/python3.10/dist-packages/sklearn/metrics/_classification.py:1344: UndefinedMetricWarning:\n",
            "\n",
            "Precision and F-score are ill-defined and being set to 0.0 in labels with no predicted samples. Use `zero_division` parameter to control this behavior.\n",
            "\n",
            "/usr/local/lib/python3.10/dist-packages/sklearn/metrics/_classification.py:1344: UndefinedMetricWarning:\n",
            "\n",
            "Precision and F-score are ill-defined and being set to 0.0 in labels with no predicted samples. Use `zero_division` parameter to control this behavior.\n",
            "\n",
            "/usr/local/lib/python3.10/dist-packages/sklearn/metrics/_classification.py:1344: UndefinedMetricWarning:\n",
            "\n",
            "Precision and F-score are ill-defined and being set to 0.0 in labels with no predicted samples. Use `zero_division` parameter to control this behavior.\n",
            "\n"
          ]
        }
      ]
    },
    {
      "cell_type": "code",
      "source": [
        "y_treino.value_counts()\n"
      ],
      "metadata": {
        "colab": {
          "base_uri": "https://localhost:8080/"
        },
        "id": "rzgkQVra-XDP",
        "outputId": "be785dbe-95aa-4ee4-965f-c3591ae6ee58"
      },
      "execution_count": 70,
      "outputs": [
        {
          "output_type": "execute_result",
          "data": {
            "text/plain": [
              "mediano    709\n",
              "bom        117\n",
              "ruim        40\n",
              "Name: qualidade, dtype: int64"
            ]
          },
          "metadata": {},
          "execution_count": 70
        }
      ]
    },
    {
      "cell_type": "code",
      "source": [
        "from imblearn.over_sampling import SMOTE\n",
        "\n",
        "oversample = SMOTE(random_state=0)\n",
        "X_balanceado, y_balanceado = oversample.fit_resample(X_treino, y_treino)\n",
        "modelo = RandomForestClassifier(random_state=0, max_depth=5)\n",
        "modelo.fit(X_balanceado, y_balanceado)\n",
        "y_pred = modelo.predict(X_val)\n",
        "print(classification_report(y_val, y_pred))\n",
        "ConfusionMatrixDisplay.from_predictions(y_val, y_pred, normalize='true', cmap='Blues');\n"
      ],
      "metadata": {
        "colab": {
          "base_uri": "https://localhost:8080/",
          "height": 623
        },
        "id": "1_a1Hw79-bb2",
        "outputId": "ef11b9f9-4669-4288-90b4-a099fa1ab786"
      },
      "execution_count": 71,
      "outputs": [
        {
          "output_type": "stream",
          "name": "stdout",
          "text": [
            "              precision    recall  f1-score   support\n",
            "\n",
            "         bom       0.36      0.77      0.49        39\n",
            "     mediano       0.92      0.57      0.70       236\n",
            "        ruim       0.14      0.57      0.22        14\n",
            "\n",
            "    accuracy                           0.60       289\n",
            "   macro avg       0.47      0.64      0.47       289\n",
            "weighted avg       0.80      0.60      0.65       289\n",
            "\n"
          ]
        },
        {
          "output_type": "display_data",
          "data": {
            "text/plain": [
              "<Figure size 640x480 with 2 Axes>"
            ],
            "image/png": "[encoded data removed]"
          },
          "metadata": {}
        }
      ]
    },
    {
      "cell_type": "code",
      "source": [
        "from imblearn.pipeline import Pipeline as imbpipeline\n",
        "modelo = RandomForestClassifier(max_depth = 10)\n",
        "pipeline = imbpipeline([('oversample', SMOTE()), ('floresta', modelo)])\n"
      ],
      "metadata": {
        "id": "6J44M3Mt-efz"
      },
      "execution_count": 72,
      "outputs": []
    },
    {
      "cell_type": "code",
      "source": [
        "from sklearn.model_selection import cross_validate, StratifiedKFold\n",
        "skf = StratifiedKFold(n_splits=5, shuffle=True, random_state=0)\n",
        "cv_resultados = cross_validate(pipeline, X, y, cv=skf, scoring='recall_weighted')\n",
        "cv_resultados['test_score']\n"
      ],
      "metadata": {
        "colab": {
          "base_uri": "https://localhost:8080/"
        },
        "id": "59bnNaM3-i8M",
        "outputId": "a8d0b3c5-d6dc-46b8-c25c-0bf866cc3f63"
      },
      "execution_count": 73,
      "outputs": [
        {
          "output_type": "execute_result",
          "data": {
            "text/plain": [
              "array([0.76190476, 0.77489177, 0.72727273, 0.76190476, 0.76190476])"
            ]
          },
          "metadata": {},
          "execution_count": 73
        }
      ]
    },
    {
      "cell_type": "code",
      "source": [
        "media = cv_resultados['test_score'].mean()\n",
        "desvio_padrao = cv_resultados['test_score'].std()\n",
        "print(f'Intervalo de confiança: [{media-2*desvio_padrao}, {min(media+2*desvio_padrao, 1.0)}]')\n"
      ],
      "metadata": {
        "colab": {
          "base_uri": "https://localhost:8080/"
        },
        "id": "dLMAkdFj-kV-",
        "outputId": "cb14d842-5128-43d4-cec7-f57266ceb68c"
      },
      "execution_count": 74,
      "outputs": [
        {
          "output_type": "stream",
          "name": "stdout",
          "text": [
            "Intervalo de confiança: [0.7256465992821026, 0.7895049158694125]\n"
          ]
        }
      ]
    },
    {
      "cell_type": "code",
      "source": [
        "oversample = SMOTE(random_state=0)\n",
        "X_balanceado, y_balanceado = oversample.fit_resample(X, y)\n",
        "modelo = RandomForestClassifier(random_state=0, max_depth=10)\n",
        "modelo.fit(X_balanceado, y_balanceado)\n",
        "y_pred = modelo.predict(X_teste)\n",
        "\n",
        "print(classification_report(y_teste, y_pred))\n",
        "ConfusionMatrixDisplay.from_predictions(y_teste, y_pred, normalize='true', cmap='Blues');\n"
      ],
      "metadata": {
        "colab": {
          "base_uri": "https://localhost:8080/",
          "height": 623
        },
        "id": "wv-rRWR5-mV7",
        "outputId": "da3194f0-d817-4769-8b86-8028532117bb"
      },
      "execution_count": 75,
      "outputs": [
        {
          "output_type": "stream",
          "name": "stdout",
          "text": [
            "              precision    recall  f1-score   support\n",
            "\n",
            "         bom       0.49      0.61      0.54        28\n",
            "     mediano       0.90      0.83      0.86       167\n",
            "        ruim       0.31      0.56      0.40         9\n",
            "\n",
            "    accuracy                           0.78       204\n",
            "   macro avg       0.57      0.66      0.60       204\n",
            "weighted avg       0.82      0.78      0.80       204\n",
            "\n"
          ]
        },
        {
          "output_type": "display_data",
          "data": {
            "text/plain": [
              "<Figure size 640x480 with 2 Axes>"
            ],
            "image/png": "[encoded data removed]"
          },
          "metadata": {}
        }
      ]
    }
  ]
}